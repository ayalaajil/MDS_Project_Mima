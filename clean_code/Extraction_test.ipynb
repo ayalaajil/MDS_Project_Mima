{
 "cells": [
  {
   "cell_type": "code",
   "execution_count": 2,
   "metadata": {},
   "outputs": [],
   "source": [
    "import pandas as pd\n",
    "from transformers import pipeline\n",
    "import ast\n",
    "from extractor import ExtractingPrompt\n",
    "from LLM import LLM\n",
    "from tqdm import tqdm\n",
    "import re\n",
    "import numpy as np\n",
    "from evaluation_functions import calculate_accuracy_degree_1, calculate_accuracy_degree_1_bis, evaluate_penalization_degree_0, evaluate_penalization_degree_1"
   ]
  },
  {
   "cell_type": "code",
   "execution_count": 3,
   "metadata": {},
   "outputs": [],
   "source": [
    "df = pd.read_csv('/home/laajila/mima_newcode/clean_code/outputs/2025-02-05/14-14-20/output_20250205_144847.csv')"
   ]
  },
  {
   "cell_type": "markdown",
   "metadata": {},
   "source": [
    "## Utility functions "
   ]
  },
  {
   "cell_type": "code",
   "execution_count": 4,
   "metadata": {},
   "outputs": [],
   "source": [
    "def extract_symptom_scores(output_str):\n",
    "    # This pattern matches a key enclosed in single or double quotes followed by a colon and a number (integer or float)\n",
    "    pattern = r'[\"\\']([^\"\\']+)[\"\\']\\s*:\\s*([0-9]*\\.?[0-9]+)'\n",
    "    matches = re.findall(pattern, output_str)\n",
    "    # Convert the extracted values to float and build the dictionary\n",
    "    return {key: float(value) for key, value in matches}"
   ]
  },
  {
   "cell_type": "code",
   "execution_count": 5,
   "metadata": {},
   "outputs": [],
   "source": [
    "def true_vs_extracted_symptoms(df_results):\n",
    "    \n",
    "    true_symptoms = [{el} for el in list(df_results['True_Symptom'])]\n",
    "    extracted_symptoms = [{ast.literal_eval(el)[i] for i in range(len(ast.literal_eval(el)))} for el in list(df_results['Extracted_Symptom'])]\n",
    "    return true_symptoms, extracted_symptoms"
   ]
  },
  {
   "cell_type": "markdown",
   "metadata": {},
   "source": [
    "## Extract using Biollama"
   ]
  },
  {
   "cell_type": "code",
   "execution_count": 6,
   "metadata": {},
   "outputs": [
    {
     "name": "stderr",
     "output_type": "stream",
     "text": [
      "/home/laajila/miniconda3/envs/darts_env/lib/python3.11/site-packages/transformers/models/auto/tokenization_auto.py:823: FutureWarning: The `use_auth_token` argument is deprecated and will be removed in v5 of Transformers. Please use `token` instead.\n",
      "  warnings.warn(\n",
      "/home/laajila/miniconda3/envs/darts_env/lib/python3.11/site-packages/transformers/models/auto/auto_factory.py:471: FutureWarning: The `use_auth_token` argument is deprecated and will be removed in v5 of Transformers. Please use `token` instead.\n",
      "  warnings.warn(\n"
     ]
    },
    {
     "data": {
      "application/vnd.jupyter.widget-view+json": {
       "model_id": "e5b6e632289341069e61173bfc50b3d8",
       "version_major": 2,
       "version_minor": 0
      },
      "text/plain": [
       "Loading checkpoint shards:   0%|          | 0/6 [00:00<?, ?it/s]"
      ]
     },
     "metadata": {},
     "output_type": "display_data"
    },
    {
     "name": "stderr",
     "output_type": "stream",
     "text": [
      "Device set to use cuda:0\n"
     ]
    },
    {
     "name": "stdout",
     "output_type": "stream",
     "text": [
      "Model loaded on device(s): {'': 0}\n"
     ]
    }
   ],
   "source": [
    "model = LLM(model_name=\"iRASC/BioLlama-Ko-8B\", max_length=50)"
   ]
  },
  {
   "cell_type": "code",
   "execution_count": 7,
   "metadata": {},
   "outputs": [],
   "source": [
    "ctcae = pd.read_excel('PRO-CTCAE_Questionnaire_Terminology.xls', sheet_name = 'PRO')\n",
    "symptoms_list = ctcae['PRO-CTCAE PT'].unique()[:-25]"
   ]
  },
  {
   "cell_type": "code",
   "execution_count": 8,
   "metadata": {},
   "outputs": [],
   "source": [
    "extractor = ExtractingPrompt(symptoms_list)"
   ]
  },
  {
   "cell_type": "code",
   "execution_count": 12,
   "metadata": {},
   "outputs": [
    {
     "name": "stderr",
     "output_type": "stream",
     "text": [
      "1it [00:06,  6.88s/it]\n"
     ]
    },
    {
     "ename": "IndexError",
     "evalue": "list index out of range",
     "output_type": "error",
     "traceback": [
      "\u001b[0;31m---------------------------------------------------------------------------\u001b[0m",
      "\u001b[0;31mIndexError\u001b[0m                                Traceback (most recent call last)",
      "Cell \u001b[0;32mIn[12], line 9\u001b[0m\n\u001b[1;32m      5\u001b[0m prompt \u001b[38;5;241m=\u001b[39m extractor\u001b[38;5;241m.\u001b[39mbuild_extraction_prompt(phrase)\n\u001b[1;32m      7\u001b[0m symptoms_extracted_llm \u001b[38;5;241m=\u001b[39m model\u001b[38;5;241m.\u001b[39mgenerate_text(messages\u001b[38;5;241m=\u001b[39mprompt)\n\u001b[0;32m----> 9\u001b[0m symptoms_extracted \u001b[38;5;241m=\u001b[39m [\u001b[38;5;28;43mlist\u001b[39;49m\u001b[43m(\u001b[49m\u001b[43mextract_symptom_scores\u001b[49m\u001b[43m(\u001b[49m\u001b[43msymptoms_extracted_llm\u001b[49m\u001b[43m)\u001b[49m\u001b[38;5;241;43m.\u001b[39;49m\u001b[43mkeys\u001b[49m\u001b[43m(\u001b[49m\u001b[43m)\u001b[49m\u001b[43m)\u001b[49m\u001b[43m[\u001b[49m\u001b[38;5;241;43m0\u001b[39;49m\u001b[43m]\u001b[49m ] \u001b[38;5;241m+\u001b[39m [el \u001b[38;5;28;01mfor\u001b[39;00m el \u001b[38;5;129;01min\u001b[39;00m\n\u001b[1;32m     10\u001b[0m                      \u001b[38;5;28mlist\u001b[39m(extract_symptom_scores(symptoms_extracted_llm)\u001b[38;5;241m.\u001b[39mkeys())[\u001b[38;5;241m1\u001b[39m:] \u001b[38;5;28;01mif\u001b[39;00m extract_symptom_scores(symptoms_extracted_llm)[el] \u001b[38;5;241m>\u001b[39m \u001b[38;5;241m0.80\u001b[39m ]\n\u001b[1;32m     12\u001b[0m true_symptom \u001b[38;5;241m=\u001b[39m df[\u001b[38;5;124m'\u001b[39m\u001b[38;5;124msymptom\u001b[39m\u001b[38;5;124m'\u001b[39m][i]\n\u001b[1;32m     14\u001b[0m results\u001b[38;5;241m.\u001b[39mappend({\n\u001b[1;32m     15\u001b[0m     \u001b[38;5;124m\"\u001b[39m\u001b[38;5;124mDialogue\u001b[39m\u001b[38;5;124m\"\u001b[39m: phrase,\n\u001b[1;32m     16\u001b[0m     \u001b[38;5;124m\"\u001b[39m\u001b[38;5;124mTrue_Symptom\u001b[39m\u001b[38;5;124m\"\u001b[39m: true_symptom,\n\u001b[1;32m     17\u001b[0m     \u001b[38;5;124m\"\u001b[39m\u001b[38;5;124mExtracted_Symptom\u001b[39m\u001b[38;5;124m\"\u001b[39m: symptoms_extracted\n\u001b[1;32m     18\u001b[0m })\n",
      "\u001b[0;31mIndexError\u001b[0m: list index out of range"
     ]
    }
   ],
   "source": [
    "results = []\n",
    "\n",
    "for i, phrase in tqdm(enumerate(df['Dialogue_Generated'])):\n",
    "\n",
    "    prompt = extractor.build_extraction_prompt(phrase)\n",
    "\n",
    "    symptoms_extracted_llm = model.generate_text(messages=prompt)\n",
    "\n",
    "    symptoms_extracted = [list(extract_symptom_scores(symptoms_extracted_llm).keys())[0] ] + [el for el in\n",
    "                         list(extract_symptom_scores(symptoms_extracted_llm).keys())[1:] if extract_symptom_scores(symptoms_extracted_llm)[el] > 0.80 ]\n",
    "\n",
    "    true_symptom = df['symptom'][i]\n",
    "    \n",
    "    results.append({\n",
    "        \"Dialogue\": phrase,\n",
    "        \"True_Symptom\": true_symptom,\n",
    "        \"Extracted_Symptom\": symptoms_extracted\n",
    "    })\n",
    "    df_results = pd.DataFrame(results)\n",
    "    df_results.to_csv(\"Extracting_symptoms_using_LLM_new_prompt.csv\")\n",
    "    "
   ]
  },
  {
   "cell_type": "code",
   "execution_count": 11,
   "metadata": {},
   "outputs": [
    {
     "name": "stderr",
     "output_type": "stream",
     "text": [
      "10it [00:24,  2.65s/it]You seem to be using the pipelines sequentially on GPU. In order to maximize efficiency please use a dataset\n",
      "823it [31:50,  2.32s/it]\n"
     ]
    }
   ],
   "source": [
    "results = []\n",
    "\n",
    "for i, phrase in tqdm(enumerate(df['Dialogue_Generated'])):\n",
    "\n",
    "    prompt = extractor.build_extraction_prompt(phrase)\n",
    "\n",
    "    symptoms_extracted_llm = model.generate_text(messages=prompt)\n",
    "\n",
    "    symptoms_extracted = [list(extract_symptom_scores(symptoms_extracted_llm).keys())[0] ] + [el for el in\n",
    "                         list(extract_symptom_scores(symptoms_extracted_llm).keys())[1:] if extract_symptom_scores(symptoms_extracted_llm)[el] > 0.80 ]\n",
    "\n",
    "    true_symptom = df['symptom'][i]\n",
    "    \n",
    "    results.append({\n",
    "        \"Dialogue\": phrase,\n",
    "        \"True_Symptom\": true_symptom,\n",
    "        \"Extracted_Symptom\": symptoms_extracted\n",
    "    })\n",
    "    df_results = pd.DataFrame(results)\n",
    "    df_results.to_csv(\"Extracting_symptoms_using_LLM_updated_prompt.csv\")"
   ]
  },
  {
   "cell_type": "code",
   "execution_count": 2,
   "metadata": {},
   "outputs": [],
   "source": [
    "df_results =pd.read_csv(\"Extracting_symptoms_using_LLM_updated_prompt.csv\")"
   ]
  },
  {
   "cell_type": "code",
   "execution_count": 6,
   "metadata": {},
   "outputs": [],
   "source": [
    "true_symptoms, extracted_symptoms = true_vs_extracted_symptoms(df_results)"
   ]
  },
  {
   "cell_type": "code",
   "execution_count": 8,
   "metadata": {},
   "outputs": [
    {
     "name": "stdout",
     "output_type": "stream",
     "text": [
      "Precision: 0.5614, Recall: 0.5614, F1-Score: 0.5614\n"
     ]
    }
   ],
   "source": [
    "evaluate_penalization_degree_0(true_symptoms, extracted_symptoms)"
   ]
  },
  {
   "cell_type": "code",
   "execution_count": null,
   "metadata": {},
   "outputs": [
    {
     "name": "stdout",
     "output_type": "stream",
     "text": [
      "Precision: 0.4749, Recall: 0.5614, F1-Score: 0.4919\n"
     ]
    }
   ],
   "source": [
    "evaluate_penalization_degree_1(true_symptoms, extracted_symptoms)   # perfect metric"
   ]
  },
  {
   "cell_type": "code",
   "execution_count": null,
   "metadata": {},
   "outputs": [
    {
     "data": {
      "text/plain": [
       "0.4422843256379101"
      ]
     },
     "execution_count": 10,
     "metadata": {},
     "output_type": "execute_result"
    }
   ],
   "source": [
    "calculate_accuracy_degree_1(true_symptoms, extracted_symptoms, df_results)  # perfect accuracy"
   ]
  },
  {
   "cell_type": "code",
   "execution_count": 12,
   "metadata": {},
   "outputs": [
    {
     "data": {
      "text/plain": [
       "0.5066828675577156"
      ]
     },
     "execution_count": 12,
     "metadata": {},
     "output_type": "execute_result"
    }
   ],
   "source": [
    "calculate_accuracy_degree_1_bis(df_results)"
   ]
  },
  {
   "cell_type": "markdown",
   "metadata": {},
   "source": [
    "### Without few shots :"
   ]
  },
  {
   "cell_type": "code",
   "execution_count": 15,
   "metadata": {},
   "outputs": [],
   "source": [
    "df_results = pd.read_csv(\"Extracting_symptoms_using_LLM.csv\")"
   ]
  },
  {
   "cell_type": "code",
   "execution_count": 16,
   "metadata": {},
   "outputs": [],
   "source": [
    "true_symptoms, extracted_symptoms = true_vs_extracted_symptoms(df_results)"
   ]
  },
  {
   "cell_type": "code",
   "execution_count": 17,
   "metadata": {},
   "outputs": [
    {
     "name": "stdout",
     "output_type": "stream",
     "text": [
      "Precision: 0.6282, Recall: 0.6282, F1-Score: 0.6282\n"
     ]
    }
   ],
   "source": [
    "evaluate_penalization_degree_0(true_symptoms, extracted_symptoms)"
   ]
  },
  {
   "cell_type": "code",
   "execution_count": 18,
   "metadata": {},
   "outputs": [
    {
     "name": "stdout",
     "output_type": "stream",
     "text": [
      "Precision: 0.4228, Recall: 0.6282, F1-Score: 0.4722\n"
     ]
    }
   ],
   "source": [
    "evaluate_penalization_degree_1(true_symptoms, extracted_symptoms)"
   ]
  },
  {
   "cell_type": "code",
   "execution_count": 21,
   "metadata": {},
   "outputs": [
    {
     "data": {
      "text/plain": [
       "0.5054678007290401"
      ]
     },
     "execution_count": 21,
     "metadata": {},
     "output_type": "execute_result"
    }
   ],
   "source": [
    "calculate_accuracy_degree_1_bis(df_results)  ## 50% at the first try"
   ]
  },
  {
   "cell_type": "markdown",
   "metadata": {},
   "source": [
    "## When symptom is explicit"
   ]
  },
  {
   "cell_type": "code",
   "execution_count": null,
   "metadata": {},
   "outputs": [],
   "source": [
    "# df_explicit_symptom = df[df['Explicit_symptom']==True]\n",
    "# df_explicit_symptom = df_explicit_symptom.reset_index(drop=True)\n",
    "# df_explicit_symptom"
   ]
  },
  {
   "cell_type": "code",
   "execution_count": null,
   "metadata": {},
   "outputs": [],
   "source": [
    "# results = []\n",
    "\n",
    "# for i, phrase in tqdm(enumerate(df_explicit_symptom['Dialogue_Generated'])):\n",
    "\n",
    "#     prompt = extractor.build_extraction_prompt(phrase)\n",
    "\n",
    "#     symptoms_extracted_llm = model.generate_text(messages=prompt)\n",
    "\n",
    "#     symptoms_extracted = [list(extract_symptom_scores(symptoms_extracted_llm).keys())[0] ] + [el for el in\n",
    "#                          list(extract_symptom_scores(symptoms_extracted_llm).keys())[1:] if extract_symptom_scores(symptoms_extracted_llm)[el] > 0.80 ]\n",
    "\n",
    "#     true_symptom = df_explicit_symptom['symptom'][i]\n",
    "    \n",
    "#     results.append({\n",
    "#         \"Dialogue\": phrase,\n",
    "#         \"True_Symptom\": true_symptom,\n",
    "#         \"Extracted_Symptom\": symptoms_extracted\n",
    "#     })\n",
    "#     df_results_2 = pd.DataFrame(results)\n",
    "#     df_results_2.to_csv(\"Extracting_explicit_symptoms_using_LLM.csv\")"
   ]
  },
  {
   "cell_type": "code",
   "execution_count": 22,
   "metadata": {},
   "outputs": [],
   "source": [
    "df_results_2 = pd.read_csv(\"Extracting_explicit_symptoms_using_LLM.csv\")"
   ]
  },
  {
   "cell_type": "code",
   "execution_count": 23,
   "metadata": {},
   "outputs": [],
   "source": [
    "true_symptoms, extracted_symptoms = true_vs_extracted_symptoms(df_results_2)"
   ]
  },
  {
   "cell_type": "code",
   "execution_count": 24,
   "metadata": {},
   "outputs": [
    {
     "name": "stdout",
     "output_type": "stream",
     "text": [
      "Precision: 0.7093, Recall: 0.7093, F1-Score: 0.7093\n"
     ]
    }
   ],
   "source": [
    "evaluate_penalization_degree_0(true_symptoms, extracted_symptoms)"
   ]
  },
  {
   "cell_type": "code",
   "execution_count": 25,
   "metadata": {},
   "outputs": [
    {
     "name": "stdout",
     "output_type": "stream",
     "text": [
      "Precision: 0.4890, Recall: 0.7093, F1-Score: 0.5419\n"
     ]
    }
   ],
   "source": [
    "evaluate_penalization_degree_1(true_symptoms, extracted_symptoms)"
   ]
  },
  {
   "cell_type": "code",
   "execution_count": 29,
   "metadata": {},
   "outputs": [
    {
     "data": {
      "text/plain": [
       "0.5813953488372093"
      ]
     },
     "execution_count": 29,
     "metadata": {},
     "output_type": "execute_result"
    }
   ],
   "source": [
    "calculate_accuracy_degree_1_bis(df_results_2)  # 58%"
   ]
  },
  {
   "cell_type": "code",
   "execution_count": 53,
   "metadata": {},
   "outputs": [
    {
     "data": {
      "text/html": [
       "<div>\n",
       "<style scoped>\n",
       "    .dataframe tbody tr th:only-of-type {\n",
       "        vertical-align: middle;\n",
       "    }\n",
       "\n",
       "    .dataframe tbody tr th {\n",
       "        vertical-align: top;\n",
       "    }\n",
       "\n",
       "    .dataframe thead th {\n",
       "        text-align: right;\n",
       "    }\n",
       "</style>\n",
       "<table border=\"1\" class=\"dataframe\">\n",
       "  <thead>\n",
       "    <tr style=\"text-align: right;\">\n",
       "      <th></th>\n",
       "      <th>Unnamed: 0</th>\n",
       "      <th>Dialogue</th>\n",
       "      <th>True_Symptom</th>\n",
       "      <th>Extracted_Symptom</th>\n",
       "    </tr>\n",
       "  </thead>\n",
       "  <tbody>\n",
       "    <tr>\n",
       "      <th>0</th>\n",
       "      <td>0</td>\n",
       "      <td>\"My skin is pale and dry, with a rash on my h...</td>\n",
       "      <td>['Voice quality changes', 'Hand-foot syndrome ...</td>\n",
       "      <td>['Hand-foot syndrome (a rash of the hands and ...</td>\n",
       "    </tr>\n",
       "    <tr>\n",
       "      <th>1</th>\n",
       "      <td>1</td>\n",
       "      <td>\"I got swollen arms and legs, and I'm super s...</td>\n",
       "      <td>['Swelling (arms or legs)', 'Sensitivity to su...</td>\n",
       "      <td>['Swelling (arms or legs)', 'Sensitivity to su...</td>\n",
       "    </tr>\n",
       "    <tr>\n",
       "      <th>2</th>\n",
       "      <td>2</td>\n",
       "      <td>\"I've been having these itchy red bumps all o...</td>\n",
       "      <td>['Hives', 'Hair loss', 'Painful urination']</td>\n",
       "      <td>['Hair loss', 'Itchy red bumps', 'Painful urin...</td>\n",
       "    </tr>\n",
       "    <tr>\n",
       "      <th>3</th>\n",
       "      <td>3</td>\n",
       "      <td>\"I have been having trouble sleeping lately, ...</td>\n",
       "      <td>['Nail ridging', 'Insomnia', 'Sensitivity to s...</td>\n",
       "      <td>['Nail ridging']</td>\n",
       "    </tr>\n",
       "    <tr>\n",
       "      <th>4</th>\n",
       "      <td>4</td>\n",
       "      <td>\"I'm so scared, I keep seeing flashing lights...</td>\n",
       "      <td>['Flashing lights', 'Bed/pressure sores']</td>\n",
       "      <td>['Mouth/throat sores', 'Bed/pressure sores', '...</td>\n",
       "    </tr>\n",
       "    <tr>\n",
       "      <th>...</th>\n",
       "      <td>...</td>\n",
       "      <td>...</td>\n",
       "      <td>...</td>\n",
       "      <td>...</td>\n",
       "    </tr>\n",
       "    <tr>\n",
       "      <th>95</th>\n",
       "      <td>95</td>\n",
       "      <td>\"I have been experiencing acne on my face for...</td>\n",
       "      <td>['Acne', 'Painful urination']</td>\n",
       "      <td>['Acne']</td>\n",
       "    </tr>\n",
       "    <tr>\n",
       "      <th>96</th>\n",
       "      <td>96</td>\n",
       "      <td>\"I have been experiencing chills and general ...</td>\n",
       "      <td>['Chills', 'General pain', 'Difficulty Swallow...</td>\n",
       "      <td>['Difficulty Swallowing', 'Diarrhea', 'General...</td>\n",
       "    </tr>\n",
       "    <tr>\n",
       "      <th>97</th>\n",
       "      <td>97</td>\n",
       "      <td>\"I cant swallow properly and I have the runs ...</td>\n",
       "      <td>['Difficulty Swallowing', 'Diarrhea']</td>\n",
       "      <td>['Difficulty Swallowing', 'Diarrhea', 'Shortne...</td>\n",
       "    </tr>\n",
       "    <tr>\n",
       "      <th>98</th>\n",
       "      <td>98</td>\n",
       "      <td>\"My mouth is a battlefield, with sores that e...</td>\n",
       "      <td>['Mouth/throat sores', 'Bruising', 'Urinary ur...</td>\n",
       "      <td>['Mouth/throat sores', 'Dry Mouth', 'Taste Cha...</td>\n",
       "    </tr>\n",
       "    <tr>\n",
       "      <th>99</th>\n",
       "      <td>99</td>\n",
       "      <td>\"Cold hands and feet, chills, itchy skin, mou...</td>\n",
       "      <td>['Cracking at the corners of the mouth (cheilo...</td>\n",
       "      <td>['Mouth cracks']</td>\n",
       "    </tr>\n",
       "  </tbody>\n",
       "</table>\n",
       "<p>100 rows × 4 columns</p>\n",
       "</div>"
      ],
      "text/plain": [
       "    Unnamed: 0                                           Dialogue  \\\n",
       "0            0   \"My skin is pale and dry, with a rash on my h...   \n",
       "1            1   \"I got swollen arms and legs, and I'm super s...   \n",
       "2            2   \"I've been having these itchy red bumps all o...   \n",
       "3            3   \"I have been having trouble sleeping lately, ...   \n",
       "4            4   \"I'm so scared, I keep seeing flashing lights...   \n",
       "..         ...                                                ...   \n",
       "95          95   \"I have been experiencing acne on my face for...   \n",
       "96          96   \"I have been experiencing chills and general ...   \n",
       "97          97   \"I cant swallow properly and I have the runs ...   \n",
       "98          98   \"My mouth is a battlefield, with sores that e...   \n",
       "99          99   \"Cold hands and feet, chills, itchy skin, mou...   \n",
       "\n",
       "                                         True_Symptom  \\\n",
       "0   ['Voice quality changes', 'Hand-foot syndrome ...   \n",
       "1   ['Swelling (arms or legs)', 'Sensitivity to su...   \n",
       "2         ['Hives', 'Hair loss', 'Painful urination']   \n",
       "3   ['Nail ridging', 'Insomnia', 'Sensitivity to s...   \n",
       "4           ['Flashing lights', 'Bed/pressure sores']   \n",
       "..                                                ...   \n",
       "95                      ['Acne', 'Painful urination']   \n",
       "96  ['Chills', 'General pain', 'Difficulty Swallow...   \n",
       "97              ['Difficulty Swallowing', 'Diarrhea']   \n",
       "98  ['Mouth/throat sores', 'Bruising', 'Urinary ur...   \n",
       "99  ['Cracking at the corners of the mouth (cheilo...   \n",
       "\n",
       "                                    Extracted_Symptom  \n",
       "0   ['Hand-foot syndrome (a rash of the hands and ...  \n",
       "1   ['Swelling (arms or legs)', 'Sensitivity to su...  \n",
       "2   ['Hair loss', 'Itchy red bumps', 'Painful urin...  \n",
       "3                                    ['Nail ridging']  \n",
       "4   ['Mouth/throat sores', 'Bed/pressure sores', '...  \n",
       "..                                                ...  \n",
       "95                                           ['Acne']  \n",
       "96  ['Difficulty Swallowing', 'Diarrhea', 'General...  \n",
       "97  ['Difficulty Swallowing', 'Diarrhea', 'Shortne...  \n",
       "98  ['Mouth/throat sores', 'Dry Mouth', 'Taste Cha...  \n",
       "99                                   ['Mouth cracks']  \n",
       "\n",
       "[100 rows x 4 columns]"
      ]
     },
     "execution_count": 53,
     "metadata": {},
     "output_type": "execute_result"
    }
   ],
   "source": [
    "df_results = pd.read_csv('Extracting_symptoms_using_LLM_2.csv')\n",
    "df_results"
   ]
  },
  {
   "cell_type": "code",
   "execution_count": 57,
   "metadata": {},
   "outputs": [
    {
     "data": {
      "text/plain": [
       "\"['Hand-foot syndrome (a rash of the hands and feet that can cause cracking, peeling, redness or pain)', 'Dry Mouth', 'Joint pain']\""
      ]
     },
     "execution_count": 57,
     "metadata": {},
     "output_type": "execute_result"
    }
   ],
   "source": [
    "df_results.iloc[0]['Extracted_Symptom']"
   ]
  },
  {
   "cell_type": "code",
   "execution_count": 40,
   "metadata": {},
   "outputs": [],
   "source": [
    "true_symptoms = [set(ast.literal_eval(el)) for el in df_results['True_Symptom']]\n",
    "extracted_symptoms = [set(ast.literal_eval(el)) for el in (df_results['Extracted_Symptom'])]"
   ]
  },
  {
   "cell_type": "code",
   "execution_count": null,
   "metadata": {},
   "outputs": [
    {
     "name": "stdout",
     "output_type": "stream",
     "text": [
      "Precision: 0.8200, Recall: 0.8200, F1-Score: 0.8200\n"
     ]
    }
   ],
   "source": [
    "evaluate_penalization_degree_0(true_symptoms, extracted_symptoms) # at least one symptom is extracted"
   ]
  },
  {
   "cell_type": "code",
   "execution_count": 43,
   "metadata": {},
   "outputs": [
    {
     "name": "stdout",
     "output_type": "stream",
     "text": [
      "Precision: 0.5238, Recall: 0.4542, F1-Score: 0.4665\n"
     ]
    }
   ],
   "source": [
    "evaluate_penalization_degree_1(true_symptoms, extracted_symptoms)"
   ]
  },
  {
   "cell_type": "code",
   "execution_count": 44,
   "metadata": {},
   "outputs": [
    {
     "data": {
      "text/plain": [
       "0.1"
      ]
     },
     "execution_count": 44,
     "metadata": {},
     "output_type": "execute_result"
    }
   ],
   "source": [
    "calculate_accuracy_degree_1(true_symptoms, extracted_symptoms, df_results)"
   ]
  },
  {
   "cell_type": "code",
   "execution_count": 47,
   "metadata": {},
   "outputs": [
    {
     "data": {
      "text/plain": [
       "0.15"
      ]
     },
     "execution_count": 47,
     "metadata": {},
     "output_type": "execute_result"
    }
   ],
   "source": [
    "score = 0\n",
    "for i in range(len(df_results)) : \n",
    "\n",
    "    True_symptom = true_symptoms[i]\n",
    "    Extracted_Symptom = extracted_symptoms[i]\n",
    "\n",
    "    if True_symptom <= Extracted_Symptom : # Subset check (penalizes only missing ones)\n",
    "        score +=1 \n",
    "\n",
    "accuracy = score / len(df_results)\n",
    "accuracy"
   ]
  },
  {
   "cell_type": "code",
   "execution_count": 48,
   "metadata": {},
   "outputs": [],
   "source": [
    "df = pd.read_csv(\"Many_symptoms_generated_2.csv\")"
   ]
  },
  {
   "cell_type": "code",
   "execution_count": 51,
   "metadata": {},
   "outputs": [
    {
     "data": {
      "text/plain": [
       "' \"I feel like I\\'m always down in the dumps and I can\\'t seem to shake it. My mouth is always dry and I can\\'t sleep at night.\"'"
      ]
     },
     "execution_count": 51,
     "metadata": {},
     "output_type": "execute_result"
    }
   ],
   "source": [
    "df.iloc[0]['Dialogue_Generated']"
   ]
  },
  {
   "cell_type": "code",
   "execution_count": 52,
   "metadata": {},
   "outputs": [
    {
     "data": {
      "text/plain": [
       "Dialogue_Generated     \"I feel like I'm always down in the dumps and...\n",
       "Symptoms                                           ['Sad', 'Dry Mouth']\n",
       "Descriptions                                  ['Frequency', 'Severity']\n",
       "Meta                                        ['Never', 'Not applicable']\n",
       "Language_Style                                          Vulgar Register\n",
       "Tone                                                           Confused\n",
       "Detail_Level                                                          4\n",
       "Enumeration                                                       False\n",
       "Explicit_Symptom                                                  False\n",
       "Spelling_Errors                                                   False\n",
       "Name: 0, dtype: object"
      ]
     },
     "execution_count": 52,
     "metadata": {},
     "output_type": "execute_result"
    }
   ],
   "source": [
    "df.iloc[0]"
   ]
  },
  {
   "cell_type": "code",
   "execution_count": null,
   "metadata": {},
   "outputs": [],
   "source": []
  }
 ],
 "metadata": {
  "kernelspec": {
   "display_name": "darts_env",
   "language": "python",
   "name": "python3"
  },
  "language_info": {
   "codemirror_mode": {
    "name": "ipython",
    "version": 3
   },
   "file_extension": ".py",
   "mimetype": "text/x-python",
   "name": "python",
   "nbconvert_exporter": "python",
   "pygments_lexer": "ipython3",
   "version": "3.11.11"
  }
 },
 "nbformat": 4,
 "nbformat_minor": 2
}
