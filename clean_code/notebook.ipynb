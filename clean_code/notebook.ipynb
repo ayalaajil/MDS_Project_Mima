{
 "cells": [
  {
   "cell_type": "code",
   "execution_count": 3,
   "metadata": {},
   "outputs": [],
   "source": [
    "import pandas as pd\n",
    "from transformers import pipeline"
   ]
  },
  {
   "cell_type": "code",
   "execution_count": 2,
   "metadata": {},
   "outputs": [],
   "source": [
    "df = pd.read_csv('/home/laajila/mima_newcode/clean_code/outputs/2025-02-05/14-14-20/output_20250205_144847.csv')"
   ]
  },
  {
   "cell_type": "code",
   "execution_count": 4,
   "metadata": {},
   "outputs": [
    {
     "data": {
      "text/html": [
       "<div>\n",
       "<style scoped>\n",
       "    .dataframe tbody tr th:only-of-type {\n",
       "        vertical-align: middle;\n",
       "    }\n",
       "\n",
       "    .dataframe tbody tr th {\n",
       "        vertical-align: top;\n",
       "    }\n",
       "\n",
       "    .dataframe thead th {\n",
       "        text-align: right;\n",
       "    }\n",
       "</style>\n",
       "<table border=\"1\" class=\"dataframe\">\n",
       "  <thead>\n",
       "    <tr style=\"text-align: right;\">\n",
       "      <th></th>\n",
       "      <th>Dialogue_Generated</th>\n",
       "      <th>symptom</th>\n",
       "      <th>description</th>\n",
       "      <th>meta</th>\n",
       "      <th>language_style</th>\n",
       "      <th>Tone</th>\n",
       "      <th>Detail_level</th>\n",
       "      <th>Enumeration</th>\n",
       "      <th>Explicit_symptom</th>\n",
       "      <th>Spelling_errors</th>\n",
       "    </tr>\n",
       "  </thead>\n",
       "  <tbody>\n",
       "    <tr>\n",
       "      <th>0</th>\n",
       "      <td>\"I'm so scared, I've got these cracks at the ...</td>\n",
       "      <td>Cracking at the corners of the mouth (cheilosi...</td>\n",
       "      <td>Severity</td>\n",
       "      <td>Very severe</td>\n",
       "      <td>Informal Register</td>\n",
       "      <td>Fearful</td>\n",
       "      <td>1</td>\n",
       "      <td>False</td>\n",
       "      <td>True</td>\n",
       "      <td>True</td>\n",
       "    </tr>\n",
       "    <tr>\n",
       "      <th>1</th>\n",
       "      <td>\"I got these cracks at the corners of me mout...</td>\n",
       "      <td>Cracking at the corners of the mouth (cheilosi...</td>\n",
       "      <td>Severity</td>\n",
       "      <td>Not sexually active</td>\n",
       "      <td>Vulgar Register</td>\n",
       "      <td>Fearful</td>\n",
       "      <td>2</td>\n",
       "      <td>False</td>\n",
       "      <td>True</td>\n",
       "      <td>True</td>\n",
       "    </tr>\n",
       "  </tbody>\n",
       "</table>\n",
       "</div>"
      ],
      "text/plain": [
       "                                  Dialogue_Generated  \\\n",
       "0   \"I'm so scared, I've got these cracks at the ...   \n",
       "1   \"I got these cracks at the corners of me mout...   \n",
       "\n",
       "                                             symptom description  \\\n",
       "0  Cracking at the corners of the mouth (cheilosi...    Severity   \n",
       "1  Cracking at the corners of the mouth (cheilosi...    Severity   \n",
       "\n",
       "                  meta     language_style     Tone  Detail_level  Enumeration  \\\n",
       "0          Very severe  Informal Register  Fearful             1        False   \n",
       "1  Not sexually active    Vulgar Register  Fearful             2        False   \n",
       "\n",
       "   Explicit_symptom  Spelling_errors  \n",
       "0              True             True  \n",
       "1              True             True  "
      ]
     },
     "execution_count": 4,
     "metadata": {},
     "output_type": "execute_result"
    }
   ],
   "source": [
    "df.head(2)"
   ]
  },
  {
   "cell_type": "code",
   "execution_count": 5,
   "metadata": {},
   "outputs": [
    {
     "data": {
      "text/plain": [
       "(823, 10)"
      ]
     },
     "execution_count": 5,
     "metadata": {},
     "output_type": "execute_result"
    }
   ],
   "source": [
    "df.shape"
   ]
  },
  {
   "cell_type": "code",
   "execution_count": 6,
   "metadata": {},
   "outputs": [
    {
     "name": "stderr",
     "output_type": "stream",
     "text": [
      "Device set to use cuda:0\n",
      "You seem to be using the pipelines sequentially on GPU. In order to maximize efficiency please use a dataset\n"
     ]
    },
    {
     "data": {
      "text/html": [
       "<div>\n",
       "<style scoped>\n",
       "    .dataframe tbody tr th:only-of-type {\n",
       "        vertical-align: middle;\n",
       "    }\n",
       "\n",
       "    .dataframe tbody tr th {\n",
       "        vertical-align: top;\n",
       "    }\n",
       "\n",
       "    .dataframe thead th {\n",
       "        text-align: right;\n",
       "    }\n",
       "</style>\n",
       "<table border=\"1\" class=\"dataframe\">\n",
       "  <thead>\n",
       "    <tr style=\"text-align: right;\">\n",
       "      <th></th>\n",
       "      <th>Dialogue</th>\n",
       "      <th>Real symptoms</th>\n",
       "      <th>Extracted_Symptoms</th>\n",
       "    </tr>\n",
       "  </thead>\n",
       "  <tbody>\n",
       "    <tr>\n",
       "      <th>0</th>\n",
       "      <td>\"I'm so scared, I've got these cracks at the ...</td>\n",
       "      <td>Cracking at the corners of the mouth (cheilosi...</td>\n",
       "      <td>[cracks]</td>\n",
       "    </tr>\n",
       "    <tr>\n",
       "      <th>1</th>\n",
       "      <td>\"I got these cracks at the corners of me mout...</td>\n",
       "      <td>Cracking at the corners of the mouth (cheilosi...</td>\n",
       "      <td>[]</td>\n",
       "    </tr>\n",
       "    <tr>\n",
       "      <th>2</th>\n",
       "      <td>\"I am fed up with this bloody cracking at the...</td>\n",
       "      <td>Cracking at the corners of the mouth (cheilosi...</td>\n",
       "      <td>[]</td>\n",
       "    </tr>\n",
       "    <tr>\n",
       "      <th>3</th>\n",
       "      <td>\"I have been experiencing a cracking at the c...</td>\n",
       "      <td>Cracking at the corners of the mouth (cheilosi...</td>\n",
       "      <td>[cracking]</td>\n",
       "    </tr>\n",
       "    <tr>\n",
       "      <th>4</th>\n",
       "      <td>\"I am fed up with this cracking at the corner...</td>\n",
       "      <td>Cracking at the corners of the mouth (cheilosi...</td>\n",
       "      <td>[fed, cracking]</td>\n",
       "    </tr>\n",
       "  </tbody>\n",
       "</table>\n",
       "</div>"
      ],
      "text/plain": [
       "                                            Dialogue  \\\n",
       "0   \"I'm so scared, I've got these cracks at the ...   \n",
       "1   \"I got these cracks at the corners of me mout...   \n",
       "2   \"I am fed up with this bloody cracking at the...   \n",
       "3   \"I have been experiencing a cracking at the c...   \n",
       "4   \"I am fed up with this cracking at the corner...   \n",
       "\n",
       "                                       Real symptoms Extracted_Symptoms  \n",
       "0  Cracking at the corners of the mouth (cheilosi...           [cracks]  \n",
       "1  Cracking at the corners of the mouth (cheilosi...                 []  \n",
       "2  Cracking at the corners of the mouth (cheilosi...                 []  \n",
       "3  Cracking at the corners of the mouth (cheilosi...         [cracking]  \n",
       "4  Cracking at the corners of the mouth (cheilosi...    [fed, cracking]  "
      ]
     },
     "execution_count": 6,
     "metadata": {},
     "output_type": "execute_result"
    }
   ],
   "source": [
    "ner_pipeline = pipeline(\"ner\", model=\"d4data/biomedical-ner-all\", aggregation_strategy=\"simple\")\n",
    "\n",
    "\n",
    "extracted_data = []\n",
    "for i , dialogue in enumerate(df['Dialogue_Generated']) :\n",
    "    ner_results = ner_pipeline(dialogue)\n",
    "    symptoms = [entity[\"word\"] for entity in ner_results if \"symptom\" in entity[\"entity_group\"].lower()]\n",
    "    \n",
    "    extracted_data.append({\n",
    "        \"Dialogue\": dialogue,\n",
    "        \"Real symptoms\": df['symptom'][i],\n",
    "        \"Extracted_Symptoms\": symptoms\n",
    "    })\n",
    "    \n",
    "df_extracted = pd.DataFrame(extracted_data)\n",
    "df_extracted.head(5)"
   ]
  },
  {
   "cell_type": "code",
   "execution_count": 7,
   "metadata": {},
   "outputs": [
    {
     "data": {
      "text/plain": [
       "217"
      ]
     },
     "execution_count": 7,
     "metadata": {},
     "output_type": "execute_result"
    }
   ],
   "source": [
    "nothing_extracted = [1 for i in range(len(df_extracted['Extracted_Symptoms'])) if df_extracted['Extracted_Symptoms'][i]==[]]\n",
    "len(nothing_extracted)"
   ]
  },
  {
   "cell_type": "code",
   "execution_count": 8,
   "metadata": {},
   "outputs": [
    {
     "data": {
      "text/html": [
       "<div>\n",
       "<style scoped>\n",
       "    .dataframe tbody tr th:only-of-type {\n",
       "        vertical-align: middle;\n",
       "    }\n",
       "\n",
       "    .dataframe tbody tr th {\n",
       "        vertical-align: top;\n",
       "    }\n",
       "\n",
       "    .dataframe thead th {\n",
       "        text-align: right;\n",
       "    }\n",
       "</style>\n",
       "<table border=\"1\" class=\"dataframe\">\n",
       "  <thead>\n",
       "    <tr style=\"text-align: right;\">\n",
       "      <th></th>\n",
       "      <th>Dialogue</th>\n",
       "      <th>Real symptoms</th>\n",
       "      <th>Extracted_Symptoms</th>\n",
       "    </tr>\n",
       "  </thead>\n",
       "  <tbody>\n",
       "    <tr>\n",
       "      <th>0</th>\n",
       "      <td>\"I'm so scared, I've got these cracks at the ...</td>\n",
       "      <td>Cracking at the corners of the mouth (cheilosi...</td>\n",
       "      <td>[cracks]</td>\n",
       "    </tr>\n",
       "    <tr>\n",
       "      <th>1</th>\n",
       "      <td>\"I got these cracks at the corners of me mout...</td>\n",
       "      <td>Cracking at the corners of the mouth (cheilosi...</td>\n",
       "      <td>[]</td>\n",
       "    </tr>\n",
       "    <tr>\n",
       "      <th>2</th>\n",
       "      <td>\"I am fed up with this bloody cracking at the...</td>\n",
       "      <td>Cracking at the corners of the mouth (cheilosi...</td>\n",
       "      <td>[]</td>\n",
       "    </tr>\n",
       "    <tr>\n",
       "      <th>3</th>\n",
       "      <td>\"I have been experiencing a cracking at the c...</td>\n",
       "      <td>Cracking at the corners of the mouth (cheilosi...</td>\n",
       "      <td>[cracking]</td>\n",
       "    </tr>\n",
       "    <tr>\n",
       "      <th>4</th>\n",
       "      <td>\"I am fed up with this cracking at the corner...</td>\n",
       "      <td>Cracking at the corners of the mouth (cheilosi...</td>\n",
       "      <td>[fed, cracking]</td>\n",
       "    </tr>\n",
       "    <tr>\n",
       "      <th>...</th>\n",
       "      <td>...</td>\n",
       "      <td>...</td>\n",
       "      <td>...</td>\n",
       "    </tr>\n",
       "    <tr>\n",
       "      <th>818</th>\n",
       "      <td>\"I have been experiencing pain and swelling a...</td>\n",
       "      <td>Pain and swelling at injection site</td>\n",
       "      <td>[pain, swelling]</td>\n",
       "    </tr>\n",
       "    <tr>\n",
       "      <th>819</th>\n",
       "      <td>\"I'm still in a lot of pain and swelling at t...</td>\n",
       "      <td>Pain and swelling at injection site</td>\n",
       "      <td>[pain, swelling]</td>\n",
       "    </tr>\n",
       "    <tr>\n",
       "      <th>820</th>\n",
       "      <td>\"Oh, the agony! My arm is on fire and twice a...</td>\n",
       "      <td>Pain and swelling at injection site</td>\n",
       "      <td>[]</td>\n",
       "    </tr>\n",
       "    <tr>\n",
       "      <th>821</th>\n",
       "      <td>\"I have a lot of pain and swelling at the inj...</td>\n",
       "      <td>Pain and swelling at injection site</td>\n",
       "      <td>[pain, swelling]</td>\n",
       "    </tr>\n",
       "    <tr>\n",
       "      <th>822</th>\n",
       "      <td>\"I have a lot of pain and swelling at the inj...</td>\n",
       "      <td>Pain and swelling at injection site</td>\n",
       "      <td>[pain, swelling]</td>\n",
       "    </tr>\n",
       "  </tbody>\n",
       "</table>\n",
       "<p>823 rows × 3 columns</p>\n",
       "</div>"
      ],
      "text/plain": [
       "                                              Dialogue  \\\n",
       "0     \"I'm so scared, I've got these cracks at the ...   \n",
       "1     \"I got these cracks at the corners of me mout...   \n",
       "2     \"I am fed up with this bloody cracking at the...   \n",
       "3     \"I have been experiencing a cracking at the c...   \n",
       "4     \"I am fed up with this cracking at the corner...   \n",
       "..                                                 ...   \n",
       "818   \"I have been experiencing pain and swelling a...   \n",
       "819   \"I'm still in a lot of pain and swelling at t...   \n",
       "820   \"Oh, the agony! My arm is on fire and twice a...   \n",
       "821   \"I have a lot of pain and swelling at the inj...   \n",
       "822   \"I have a lot of pain and swelling at the inj...   \n",
       "\n",
       "                                         Real symptoms Extracted_Symptoms  \n",
       "0    Cracking at the corners of the mouth (cheilosi...           [cracks]  \n",
       "1    Cracking at the corners of the mouth (cheilosi...                 []  \n",
       "2    Cracking at the corners of the mouth (cheilosi...                 []  \n",
       "3    Cracking at the corners of the mouth (cheilosi...         [cracking]  \n",
       "4    Cracking at the corners of the mouth (cheilosi...    [fed, cracking]  \n",
       "..                                                 ...                ...  \n",
       "818                Pain and swelling at injection site   [pain, swelling]  \n",
       "819                Pain and swelling at injection site   [pain, swelling]  \n",
       "820                Pain and swelling at injection site                 []  \n",
       "821                Pain and swelling at injection site   [pain, swelling]  \n",
       "822                Pain and swelling at injection site   [pain, swelling]  \n",
       "\n",
       "[823 rows x 3 columns]"
      ]
     },
     "execution_count": 8,
     "metadata": {},
     "output_type": "execute_result"
    }
   ],
   "source": [
    "df_extracted"
   ]
  },
  {
   "cell_type": "code",
   "execution_count": 11,
   "metadata": {},
   "outputs": [
    {
     "data": {
      "text/plain": [
       "' \"Oh, the agony! My arm is on fire and twice as big as it should be. What kind of sadistic monster would do this to me?\"'"
      ]
     },
     "execution_count": 11,
     "metadata": {},
     "output_type": "execute_result"
    }
   ],
   "source": [
    "df_extracted.iloc[820]['Dialogue']"
   ]
  },
  {
   "cell_type": "code",
   "execution_count": null,
   "metadata": {},
   "outputs": [
    {
     "data": {
      "application/vnd.jupyter.widget-view+json": {
       "model_id": "850ebe2ba3dc40ff94475ef4d385e405",
       "version_major": 2,
       "version_minor": 0
      },
      "text/plain": [
       "config.json:   0%|          | 0.00/385 [00:00<?, ?B/s]"
      ]
     },
     "metadata": {},
     "output_type": "display_data"
    },
    {
     "data": {
      "application/vnd.jupyter.widget-view+json": {
       "model_id": "8fbf83844a5f4945bc9caa717e4ba204",
       "version_major": 2,
       "version_minor": 0
      },
      "text/plain": [
       "pytorch_model.bin:   0%|          | 0.00/440M [00:00<?, ?B/s]"
      ]
     },
     "metadata": {},
     "output_type": "display_data"
    },
    {
     "name": "stderr",
     "output_type": "stream",
     "text": [
      "Some weights of BertForSequenceClassification were not initialized from the model checkpoint at microsoft/BiomedNLP-PubMedBERT-base-uncased-abstract-fulltext and are newly initialized: ['classifier.bias', 'classifier.weight']\n",
      "You should probably TRAIN this model on a down-stream task to be able to use it for predictions and inference.\n"
     ]
    },
    {
     "data": {
      "application/vnd.jupyter.widget-view+json": {
       "model_id": "a368162780be43fea7f6bc6d4ccf7a98",
       "version_major": 2,
       "version_minor": 0
      },
      "text/plain": [
       "tokenizer_config.json:   0%|          | 0.00/28.0 [00:00<?, ?B/s]"
      ]
     },
     "metadata": {},
     "output_type": "display_data"
    },
    {
     "data": {
      "application/vnd.jupyter.widget-view+json": {
       "model_id": "b2eb8a442f7c47d6b5b4aad711191a22",
       "version_major": 2,
       "version_minor": 0
      },
      "text/plain": [
       "vocab.txt:   0%|          | 0.00/226k [00:00<?, ?B/s]"
      ]
     },
     "metadata": {},
     "output_type": "display_data"
    },
    {
     "name": "stderr",
     "output_type": "stream",
     "text": [
      "Device set to use cuda:0\n"
     ]
    },
    {
     "data": {
      "text/html": [
       "<div>\n",
       "<style scoped>\n",
       "    .dataframe tbody tr th:only-of-type {\n",
       "        vertical-align: middle;\n",
       "    }\n",
       "\n",
       "    .dataframe tbody tr th {\n",
       "        vertical-align: top;\n",
       "    }\n",
       "\n",
       "    .dataframe thead th {\n",
       "        text-align: right;\n",
       "    }\n",
       "</style>\n",
       "<table border=\"1\" class=\"dataframe\">\n",
       "  <thead>\n",
       "    <tr style=\"text-align: right;\">\n",
       "      <th></th>\n",
       "      <th>Dialogue</th>\n",
       "      <th>Real symptoms</th>\n",
       "      <th>Predicted_Label</th>\n",
       "      <th>Confidence</th>\n",
       "    </tr>\n",
       "  </thead>\n",
       "  <tbody>\n",
       "    <tr>\n",
       "      <th>0</th>\n",
       "      <td>\"I'm so scared, I've got these cracks at the ...</td>\n",
       "      <td>Cracking at the corners of the mouth (cheilosi...</td>\n",
       "      <td>LABEL_1</td>\n",
       "      <td>0.541197</td>\n",
       "    </tr>\n",
       "    <tr>\n",
       "      <th>1</th>\n",
       "      <td>\"I got these cracks at the corners of me mout...</td>\n",
       "      <td>Cracking at the corners of the mouth (cheilosi...</td>\n",
       "      <td>LABEL_1</td>\n",
       "      <td>0.522005</td>\n",
       "    </tr>\n",
       "    <tr>\n",
       "      <th>2</th>\n",
       "      <td>\"I am fed up with this bloody cracking at the...</td>\n",
       "      <td>Cracking at the corners of the mouth (cheilosi...</td>\n",
       "      <td>LABEL_1</td>\n",
       "      <td>0.514203</td>\n",
       "    </tr>\n",
       "    <tr>\n",
       "      <th>3</th>\n",
       "      <td>\"I have been experiencing a cracking at the c...</td>\n",
       "      <td>Cracking at the corners of the mouth (cheilosi...</td>\n",
       "      <td>LABEL_0</td>\n",
       "      <td>0.506268</td>\n",
       "    </tr>\n",
       "    <tr>\n",
       "      <th>4</th>\n",
       "      <td>\"I am fed up with this cracking at the corner...</td>\n",
       "      <td>Cracking at the corners of the mouth (cheilosi...</td>\n",
       "      <td>LABEL_1</td>\n",
       "      <td>0.501638</td>\n",
       "    </tr>\n",
       "  </tbody>\n",
       "</table>\n",
       "</div>"
      ],
      "text/plain": [
       "                                            Dialogue  \\\n",
       "0   \"I'm so scared, I've got these cracks at the ...   \n",
       "1   \"I got these cracks at the corners of me mout...   \n",
       "2   \"I am fed up with this bloody cracking at the...   \n",
       "3   \"I have been experiencing a cracking at the c...   \n",
       "4   \"I am fed up with this cracking at the corner...   \n",
       "\n",
       "                                       Real symptoms Predicted_Label  \\\n",
       "0  Cracking at the corners of the mouth (cheilosi...         LABEL_1   \n",
       "1  Cracking at the corners of the mouth (cheilosi...         LABEL_1   \n",
       "2  Cracking at the corners of the mouth (cheilosi...         LABEL_1   \n",
       "3  Cracking at the corners of the mouth (cheilosi...         LABEL_0   \n",
       "4  Cracking at the corners of the mouth (cheilosi...         LABEL_1   \n",
       "\n",
       "   Confidence  \n",
       "0    0.541197  \n",
       "1    0.522005  \n",
       "2    0.514203  \n",
       "3    0.506268  \n",
       "4    0.501638  "
      ]
     },
     "execution_count": 29,
     "metadata": {},
     "output_type": "execute_result"
    }
   ],
   "source": [
    "classifier = pipeline(\"text-classification\", model=\"microsoft/BiomedNLP-PubMedBERT-base-uncased-abstract-fulltext\")\n",
    "\n",
    "extracted_data = []\n",
    "for _, row in df.iterrows():\n",
    "    classification_result = classifier(row[\"Dialogue_Generated\"])[0]  # Get first result\n",
    "    \n",
    "    extracted_data.append({\n",
    "        \"Dialogue\": row[\"Dialogue_Generated\"],\n",
    "        \"Real symptoms\": row[\"symptom\"],\n",
    "        \"Predicted_Label\": classification_result[\"label\"],  # Example: \"has_symptom\"\n",
    "        \"Confidence\": classification_result[\"score\"]  # Model confidence score\n",
    "    })\n",
    "\n",
    "df_extracted = pd.DataFrame(extracted_data)\n",
    "df_extracted.head()"
   ]
  },
  {
   "cell_type": "code",
   "execution_count": 30,
   "metadata": {},
   "outputs": [
    {
     "data": {
      "text/plain": [
       "{'label': 'LABEL_1', 'score': 0.5154854655265808}"
      ]
     },
     "execution_count": 30,
     "metadata": {},
     "output_type": "execute_result"
    }
   ],
   "source": [
    "classification_result"
   ]
  },
  {
   "cell_type": "code",
   "execution_count": null,
   "metadata": {},
   "outputs": [],
   "source": []
  }
 ],
 "metadata": {
  "kernelspec": {
   "display_name": "darts_env",
   "language": "python",
   "name": "python3"
  },
  "language_info": {
   "codemirror_mode": {
    "name": "ipython",
    "version": 3
   },
   "file_extension": ".py",
   "mimetype": "text/x-python",
   "name": "python",
   "nbconvert_exporter": "python",
   "pygments_lexer": "ipython3",
   "version": "3.11.11"
  }
 },
 "nbformat": 4,
 "nbformat_minor": 2
}
