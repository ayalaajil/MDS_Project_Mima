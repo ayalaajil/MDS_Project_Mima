{
 "cells": [
  {
   "cell_type": "code",
   "execution_count": 41,
   "metadata": {},
   "outputs": [],
   "source": [
    "import pandas as pd\n",
    "from transformers import pipeline\n",
    "import ast\n",
    "from extractor import ExtractingPrompt\n",
    "from LLM import LLM\n",
    "from tqdm import tqdm\n",
    "import re\n",
    "import numpy as np"
   ]
  },
  {
   "cell_type": "code",
   "execution_count": 2,
   "metadata": {},
   "outputs": [],
   "source": [
    "df = pd.read_csv('/home/laajila/mima_newcode/clean_code/outputs/2025-02-05/14-14-20/output_20250205_144847.csv')"
   ]
  },
  {
   "cell_type": "code",
   "execution_count": 3,
   "metadata": {},
   "outputs": [
    {
     "data": {
      "text/html": [
       "<div>\n",
       "<style scoped>\n",
       "    .dataframe tbody tr th:only-of-type {\n",
       "        vertical-align: middle;\n",
       "    }\n",
       "\n",
       "    .dataframe tbody tr th {\n",
       "        vertical-align: top;\n",
       "    }\n",
       "\n",
       "    .dataframe thead th {\n",
       "        text-align: right;\n",
       "    }\n",
       "</style>\n",
       "<table border=\"1\" class=\"dataframe\">\n",
       "  <thead>\n",
       "    <tr style=\"text-align: right;\">\n",
       "      <th></th>\n",
       "      <th>Dialogue_Generated</th>\n",
       "      <th>symptom</th>\n",
       "      <th>description</th>\n",
       "      <th>meta</th>\n",
       "      <th>language_style</th>\n",
       "      <th>Tone</th>\n",
       "      <th>Detail_level</th>\n",
       "      <th>Enumeration</th>\n",
       "      <th>Explicit_symptom</th>\n",
       "      <th>Spelling_errors</th>\n",
       "    </tr>\n",
       "  </thead>\n",
       "  <tbody>\n",
       "    <tr>\n",
       "      <th>0</th>\n",
       "      <td>\"I'm so scared, I've got these cracks at the ...</td>\n",
       "      <td>Cracking at the corners of the mouth (cheilosi...</td>\n",
       "      <td>Severity</td>\n",
       "      <td>Very severe</td>\n",
       "      <td>Informal Register</td>\n",
       "      <td>Fearful</td>\n",
       "      <td>1</td>\n",
       "      <td>False</td>\n",
       "      <td>True</td>\n",
       "      <td>True</td>\n",
       "    </tr>\n",
       "    <tr>\n",
       "      <th>1</th>\n",
       "      <td>\"I got these cracks at the corners of me mout...</td>\n",
       "      <td>Cracking at the corners of the mouth (cheilosi...</td>\n",
       "      <td>Severity</td>\n",
       "      <td>Not sexually active</td>\n",
       "      <td>Vulgar Register</td>\n",
       "      <td>Fearful</td>\n",
       "      <td>2</td>\n",
       "      <td>False</td>\n",
       "      <td>True</td>\n",
       "      <td>True</td>\n",
       "    </tr>\n",
       "  </tbody>\n",
       "</table>\n",
       "</div>"
      ],
      "text/plain": [
       "                                  Dialogue_Generated  \\\n",
       "0   \"I'm so scared, I've got these cracks at the ...   \n",
       "1   \"I got these cracks at the corners of me mout...   \n",
       "\n",
       "                                             symptom description  \\\n",
       "0  Cracking at the corners of the mouth (cheilosi...    Severity   \n",
       "1  Cracking at the corners of the mouth (cheilosi...    Severity   \n",
       "\n",
       "                  meta     language_style     Tone  Detail_level  Enumeration  \\\n",
       "0          Very severe  Informal Register  Fearful             1        False   \n",
       "1  Not sexually active    Vulgar Register  Fearful             2        False   \n",
       "\n",
       "   Explicit_symptom  Spelling_errors  \n",
       "0              True             True  \n",
       "1              True             True  "
      ]
     },
     "execution_count": 3,
     "metadata": {},
     "output_type": "execute_result"
    }
   ],
   "source": [
    "df.head(2)"
   ]
  },
  {
   "cell_type": "code",
   "execution_count": 6,
   "metadata": {},
   "outputs": [
    {
     "data": {
      "text/plain": [
       "(823, 10)"
      ]
     },
     "execution_count": 6,
     "metadata": {},
     "output_type": "execute_result"
    }
   ],
   "source": [
    "df.shape"
   ]
  },
  {
   "cell_type": "code",
   "execution_count": 4,
   "metadata": {},
   "outputs": [
    {
     "name": "stderr",
     "output_type": "stream",
     "text": [
      "Device set to use cuda:0\n",
      "You seem to be using the pipelines sequentially on GPU. In order to maximize efficiency please use a dataset\n"
     ]
    },
    {
     "data": {
      "text/html": [
       "<div>\n",
       "<style scoped>\n",
       "    .dataframe tbody tr th:only-of-type {\n",
       "        vertical-align: middle;\n",
       "    }\n",
       "\n",
       "    .dataframe tbody tr th {\n",
       "        vertical-align: top;\n",
       "    }\n",
       "\n",
       "    .dataframe thead th {\n",
       "        text-align: right;\n",
       "    }\n",
       "</style>\n",
       "<table border=\"1\" class=\"dataframe\">\n",
       "  <thead>\n",
       "    <tr style=\"text-align: right;\">\n",
       "      <th></th>\n",
       "      <th>Dialogue</th>\n",
       "      <th>Real symptoms</th>\n",
       "      <th>Extracted_Symptoms</th>\n",
       "    </tr>\n",
       "  </thead>\n",
       "  <tbody>\n",
       "    <tr>\n",
       "      <th>0</th>\n",
       "      <td>\"I'm so scared, I've got these cracks at the ...</td>\n",
       "      <td>Cracking at the corners of the mouth (cheilosi...</td>\n",
       "      <td>[cracks]</td>\n",
       "    </tr>\n",
       "    <tr>\n",
       "      <th>1</th>\n",
       "      <td>\"I got these cracks at the corners of me mout...</td>\n",
       "      <td>Cracking at the corners of the mouth (cheilosi...</td>\n",
       "      <td>[]</td>\n",
       "    </tr>\n",
       "    <tr>\n",
       "      <th>2</th>\n",
       "      <td>\"I am fed up with this bloody cracking at the...</td>\n",
       "      <td>Cracking at the corners of the mouth (cheilosi...</td>\n",
       "      <td>[]</td>\n",
       "    </tr>\n",
       "    <tr>\n",
       "      <th>3</th>\n",
       "      <td>\"I have been experiencing a cracking at the c...</td>\n",
       "      <td>Cracking at the corners of the mouth (cheilosi...</td>\n",
       "      <td>[cracking]</td>\n",
       "    </tr>\n",
       "    <tr>\n",
       "      <th>4</th>\n",
       "      <td>\"I am fed up with this cracking at the corner...</td>\n",
       "      <td>Cracking at the corners of the mouth (cheilosi...</td>\n",
       "      <td>[fed, cracking]</td>\n",
       "    </tr>\n",
       "  </tbody>\n",
       "</table>\n",
       "</div>"
      ],
      "text/plain": [
       "                                            Dialogue  \\\n",
       "0   \"I'm so scared, I've got these cracks at the ...   \n",
       "1   \"I got these cracks at the corners of me mout...   \n",
       "2   \"I am fed up with this bloody cracking at the...   \n",
       "3   \"I have been experiencing a cracking at the c...   \n",
       "4   \"I am fed up with this cracking at the corner...   \n",
       "\n",
       "                                       Real symptoms Extracted_Symptoms  \n",
       "0  Cracking at the corners of the mouth (cheilosi...           [cracks]  \n",
       "1  Cracking at the corners of the mouth (cheilosi...                 []  \n",
       "2  Cracking at the corners of the mouth (cheilosi...                 []  \n",
       "3  Cracking at the corners of the mouth (cheilosi...         [cracking]  \n",
       "4  Cracking at the corners of the mouth (cheilosi...    [fed, cracking]  "
      ]
     },
     "execution_count": 4,
     "metadata": {},
     "output_type": "execute_result"
    }
   ],
   "source": [
    "ner_pipeline = pipeline(\"ner\", model=\"d4data/biomedical-ner-all\", aggregation_strategy=\"first\")\n",
    "\n",
    "\n",
    "extracted_data = []\n",
    "for i , dialogue in enumerate(df['Dialogue_Generated']) :\n",
    "    ner_results = ner_pipeline(dialogue)\n",
    "    symptoms = [entity[\"word\"] for entity in ner_results if \"symptom\" in entity[\"entity_group\"].lower()]\n",
    "    \n",
    "    extracted_data.append({\n",
    "        \"Dialogue\": dialogue,\n",
    "        \"Real symptoms\": df['symptom'][i],\n",
    "        \"Extracted_Symptoms\": symptoms\n",
    "    })\n",
    "    \n",
    "df_extracted = pd.DataFrame(extracted_data)\n",
    "df_extracted.head(5)"
   ]
  },
  {
   "cell_type": "code",
   "execution_count": 6,
   "metadata": {},
   "outputs": [
    {
     "data": {
      "text/html": [
       "<div>\n",
       "<style scoped>\n",
       "    .dataframe tbody tr th:only-of-type {\n",
       "        vertical-align: middle;\n",
       "    }\n",
       "\n",
       "    .dataframe tbody tr th {\n",
       "        vertical-align: top;\n",
       "    }\n",
       "\n",
       "    .dataframe thead th {\n",
       "        text-align: right;\n",
       "    }\n",
       "</style>\n",
       "<table border=\"1\" class=\"dataframe\">\n",
       "  <thead>\n",
       "    <tr style=\"text-align: right;\">\n",
       "      <th></th>\n",
       "      <th>Dialogue</th>\n",
       "      <th>Real symptoms</th>\n",
       "      <th>Extracted_Symptoms</th>\n",
       "    </tr>\n",
       "  </thead>\n",
       "  <tbody>\n",
       "    <tr>\n",
       "      <th>0</th>\n",
       "      <td>\"I'm so scared, I've got these cracks at the ...</td>\n",
       "      <td>Cracking at the corners of the mouth (cheilosi...</td>\n",
       "      <td>[cracks]</td>\n",
       "    </tr>\n",
       "    <tr>\n",
       "      <th>1</th>\n",
       "      <td>\"I got these cracks at the corners of me mout...</td>\n",
       "      <td>Cracking at the corners of the mouth (cheilosi...</td>\n",
       "      <td>[]</td>\n",
       "    </tr>\n",
       "    <tr>\n",
       "      <th>2</th>\n",
       "      <td>\"I am fed up with this bloody cracking at the...</td>\n",
       "      <td>Cracking at the corners of the mouth (cheilosi...</td>\n",
       "      <td>[]</td>\n",
       "    </tr>\n",
       "    <tr>\n",
       "      <th>3</th>\n",
       "      <td>\"I have been experiencing a cracking at the c...</td>\n",
       "      <td>Cracking at the corners of the mouth (cheilosi...</td>\n",
       "      <td>[cracking]</td>\n",
       "    </tr>\n",
       "    <tr>\n",
       "      <th>4</th>\n",
       "      <td>\"I am fed up with this cracking at the corner...</td>\n",
       "      <td>Cracking at the corners of the mouth (cheilosi...</td>\n",
       "      <td>[fed, cracking]</td>\n",
       "    </tr>\n",
       "    <tr>\n",
       "      <th>...</th>\n",
       "      <td>...</td>\n",
       "      <td>...</td>\n",
       "      <td>...</td>\n",
       "    </tr>\n",
       "    <tr>\n",
       "      <th>818</th>\n",
       "      <td>\"I have been experiencing pain and swelling a...</td>\n",
       "      <td>Pain and swelling at injection site</td>\n",
       "      <td>[pain, swelling]</td>\n",
       "    </tr>\n",
       "    <tr>\n",
       "      <th>819</th>\n",
       "      <td>\"I'm still in a lot of pain and swelling at t...</td>\n",
       "      <td>Pain and swelling at injection site</td>\n",
       "      <td>[pain, swelling]</td>\n",
       "    </tr>\n",
       "    <tr>\n",
       "      <th>820</th>\n",
       "      <td>\"Oh, the agony! My arm is on fire and twice a...</td>\n",
       "      <td>Pain and swelling at injection site</td>\n",
       "      <td>[]</td>\n",
       "    </tr>\n",
       "    <tr>\n",
       "      <th>821</th>\n",
       "      <td>\"I have a lot of pain and swelling at the inj...</td>\n",
       "      <td>Pain and swelling at injection site</td>\n",
       "      <td>[pain, swelling]</td>\n",
       "    </tr>\n",
       "    <tr>\n",
       "      <th>822</th>\n",
       "      <td>\"I have a lot of pain and swelling at the inj...</td>\n",
       "      <td>Pain and swelling at injection site</td>\n",
       "      <td>[pain, swelling]</td>\n",
       "    </tr>\n",
       "  </tbody>\n",
       "</table>\n",
       "<p>823 rows × 3 columns</p>\n",
       "</div>"
      ],
      "text/plain": [
       "                                              Dialogue  \\\n",
       "0     \"I'm so scared, I've got these cracks at the ...   \n",
       "1     \"I got these cracks at the corners of me mout...   \n",
       "2     \"I am fed up with this bloody cracking at the...   \n",
       "3     \"I have been experiencing a cracking at the c...   \n",
       "4     \"I am fed up with this cracking at the corner...   \n",
       "..                                                 ...   \n",
       "818   \"I have been experiencing pain and swelling a...   \n",
       "819   \"I'm still in a lot of pain and swelling at t...   \n",
       "820   \"Oh, the agony! My arm is on fire and twice a...   \n",
       "821   \"I have a lot of pain and swelling at the inj...   \n",
       "822   \"I have a lot of pain and swelling at the inj...   \n",
       "\n",
       "                                         Real symptoms Extracted_Symptoms  \n",
       "0    Cracking at the corners of the mouth (cheilosi...           [cracks]  \n",
       "1    Cracking at the corners of the mouth (cheilosi...                 []  \n",
       "2    Cracking at the corners of the mouth (cheilosi...                 []  \n",
       "3    Cracking at the corners of the mouth (cheilosi...         [cracking]  \n",
       "4    Cracking at the corners of the mouth (cheilosi...    [fed, cracking]  \n",
       "..                                                 ...                ...  \n",
       "818                Pain and swelling at injection site   [pain, swelling]  \n",
       "819                Pain and swelling at injection site   [pain, swelling]  \n",
       "820                Pain and swelling at injection site                 []  \n",
       "821                Pain and swelling at injection site   [pain, swelling]  \n",
       "822                Pain and swelling at injection site   [pain, swelling]  \n",
       "\n",
       "[823 rows x 3 columns]"
      ]
     },
     "execution_count": 6,
     "metadata": {},
     "output_type": "execute_result"
    }
   ],
   "source": [
    "df_extracted"
   ]
  },
  {
   "cell_type": "code",
   "execution_count": 5,
   "metadata": {},
   "outputs": [
    {
     "data": {
      "text/plain": [
       "221"
      ]
     },
     "execution_count": 5,
     "metadata": {},
     "output_type": "execute_result"
    }
   ],
   "source": [
    "nothing_extracted = [1 for i in range(len(df_extracted['Extracted_Symptoms'])) if df_extracted['Extracted_Symptoms'][i]==[]]\n",
    "len(nothing_extracted)"
   ]
  },
  {
   "cell_type": "markdown",
   "metadata": {},
   "source": [
    "## Evaluation functions :"
   ]
  },
  {
   "cell_type": "markdown",
   "metadata": {},
   "source": [
    "* If the model extracts extra symptoms, it lowers precision.\n",
    "\n",
    "* If the model misses true symptoms, recall decreases."
   ]
  },
  {
   "cell_type": "code",
   "execution_count": 131,
   "metadata": {},
   "outputs": [],
   "source": [
    "def evaluate_penalization_degree_1(true_symptoms, extracted_symptoms, df_results):\n",
    "    \n",
    "    # Compute precision (only penalizes false positives)\n",
    "    precision_scores = [\n",
    "        len(pred & true) / len(pred) if pred else 0 \n",
    "        for true, pred in zip(true_symptoms, extracted_symptoms)\n",
    "    ]\n",
    "\n",
    "    # Compute recall (penalizes missing true symptoms)\n",
    "    recall_scores = [\n",
    "        len(pred & true) / len(true) if true else 0 \n",
    "        for true, pred in zip(true_symptoms, extracted_symptoms)\n",
    "    ]\n",
    "\n",
    "    # Compute F1-score (avoiding division by zero)\n",
    "    f1_scores = [\n",
    "        (2 * p * r) / (p + r) if (p + r) > 0 else 0\n",
    "        for p, r in zip(precision_scores, recall_scores)\n",
    "    ]\n",
    "\n",
    "    # Convert to Pandas Series if needed\n",
    "    df_results[\"Precision\"] = precision_scores\n",
    "    df_results[\"Recall\"] = recall_scores\n",
    "    df_results[\"F1-Score\"] = f1_scores\n",
    "\n",
    "    # Compute mean metrics\n",
    "    precision = np.mean(precision_scores)\n",
    "    recall = np.mean(recall_scores)\n",
    "    f1_score = np.mean(f1_scores)\n",
    "\n",
    "    print(f\"Precision: {precision:.4f}, Recall: {recall:.4f}, F1-Score: {f1_score:.4f}\")"
   ]
  },
  {
   "cell_type": "markdown",
   "metadata": {},
   "source": [
    "Consider True Positives when at least one true symptom is extracted"
   ]
  },
  {
   "cell_type": "code",
   "execution_count": 127,
   "metadata": {},
   "outputs": [],
   "source": [
    "def evaluate_penalization_degree_0(true_symptoms, extracted_symptoms, df_results):\n",
    "    \n",
    "    # Compute True Positives: At least one true symptom is extracted\n",
    "    true_positives = [\n",
    "        1 if len(pred & true) > 0 else 0  # If there's at least one correct symptom\n",
    "        for true, pred in zip(true_symptoms, extracted_symptoms)\n",
    "    ]\n",
    "\n",
    "    # Compute Precision: Is at least one extracted symptom correct?\n",
    "    precision_scores = [\n",
    "        1 if len(pred & true) > 0 else 0  # If at least one match, it's a precision hit\n",
    "        for true, pred in zip(true_symptoms, extracted_symptoms)\n",
    "    ]\n",
    "\n",
    "    # Compute Recall: Did the model miss all true symptoms?\n",
    "    recall_scores = [\n",
    "        1 if len(pred & true) > 0 else 0  # If at least one match, recall is 1\n",
    "        for true, pred in zip(true_symptoms, extracted_symptoms)\n",
    "    ]\n",
    "\n",
    "    # Compute F1-Score (since precision and recall are binary in this case)\n",
    "    f1_scores = [\n",
    "        1 if len(pred & true) > 0 else 0  # If at least one match, F1 is 1\n",
    "        for true, pred in zip(true_symptoms, extracted_symptoms)\n",
    "    ]\n",
    "\n",
    "    # Convert to Pandas Series if needed\n",
    "    df_results[\"True Positive\"] = true_positives\n",
    "    df_results[\"Precision\"] = precision_scores\n",
    "    df_results[\"Recall\"] = recall_scores\n",
    "    df_results[\"F1-Score\"] = f1_scores\n",
    "\n",
    "    # Compute mean metrics\n",
    "    precision = np.mean(precision_scores)\n",
    "    recall = np.mean(recall_scores)\n",
    "    f1_score = np.mean(f1_scores)\n",
    "\n",
    "    print(f\"Precision: {precision:.4f}, Recall: {recall:.4f}, F1-Score: {f1_score:.4f}\")"
   ]
  },
  {
   "cell_type": "markdown",
   "metadata": {},
   "source": [
    "### Import the LLM model : Biollama "
   ]
  },
  {
   "cell_type": "code",
   "execution_count": 2,
   "metadata": {},
   "outputs": [
    {
     "name": "stderr",
     "output_type": "stream",
     "text": [
      "/home/laajila/miniconda3/envs/darts_env/lib/python3.11/site-packages/transformers/models/auto/tokenization_auto.py:823: FutureWarning: The `use_auth_token` argument is deprecated and will be removed in v5 of Transformers. Please use `token` instead.\n",
      "  warnings.warn(\n",
      "/home/laajila/miniconda3/envs/darts_env/lib/python3.11/site-packages/transformers/models/auto/auto_factory.py:471: FutureWarning: The `use_auth_token` argument is deprecated and will be removed in v5 of Transformers. Please use `token` instead.\n",
      "  warnings.warn(\n"
     ]
    },
    {
     "data": {
      "application/vnd.jupyter.widget-view+json": {
       "model_id": "d428d456c5714c9a825d8631e25bc8af",
       "version_major": 2,
       "version_minor": 0
      },
      "text/plain": [
       "Loading checkpoint shards:   0%|          | 0/6 [00:00<?, ?it/s]"
      ]
     },
     "metadata": {},
     "output_type": "display_data"
    },
    {
     "name": "stderr",
     "output_type": "stream",
     "text": [
      "Device set to use cuda:0\n"
     ]
    },
    {
     "name": "stdout",
     "output_type": "stream",
     "text": [
      "Model loaded on device(s): {'': 0}\n"
     ]
    }
   ],
   "source": [
    "model = LLM(model_name=\"iRASC/BioLlama-Ko-8B\", max_length=50)"
   ]
  },
  {
   "cell_type": "code",
   "execution_count": 51,
   "metadata": {},
   "outputs": [
    {
     "data": {
      "text/plain": [
       "array(['Cracking at the corners of the mouth (cheilosis/cheilitis)',\n",
       "       'Difficulty Swallowing', 'Dry Mouth', 'Hoarseness',\n",
       "       'Mouth/throat sores', 'Voice quality changes', 'Abdominal pain',\n",
       "       'Bloating', 'Constipation', 'Decreased appetite', 'Diarrhea',\n",
       "       'Fecal incontinence', 'Gas', 'Heartburn', 'Hiccups', 'Nausea',\n",
       "       'Taste Changes', 'Vomiting', 'Coughing', 'Shortness of breath',\n",
       "       'Wheezing', 'Heart palpitations', 'Swelling (arms or legs)',\n",
       "       'Acne', 'Bed/pressure sores', 'Hair loss',\n",
       "       'Hand-foot syndrome (a rash of the hands and feet that can cause cracking, peeling, redness or pain)',\n",
       "       'Hives', 'Itching', 'Nail discoloration', 'Nail loss',\n",
       "       'Nail ridging', 'Radiation skin reaction', 'Rash',\n",
       "       'Sensitivity to sunlight', 'Skin darkening', 'Skin dryness',\n",
       "       'Stretch marks', 'Dizziness', 'Numbness & tingling',\n",
       "       'Blurred vision', 'Flashing lights', 'Ringing in ears',\n",
       "       'Visual floaters', 'Watery eyes', 'Concentration', 'Memory',\n",
       "       'General pain', 'Headache', 'Joint pain', 'Muscle pain', 'Fatigue',\n",
       "       'Insomnia', 'Anxious', 'Discouraged', 'Sad',\n",
       "       'Change in usual urine color',\n",
       "       'Irregular periods/vaginal bleeding',\n",
       "       'Missed expected menstrual period', 'Painful urination',\n",
       "       'Urinary frequency', 'Urinary incontinence', 'Urinary urgency',\n",
       "       'Vaginal discharge', 'Vaginal dryness', 'Decreased libido',\n",
       "       'Delayed orgasm', 'Achieve and maintain erection', 'Ejaculation',\n",
       "       'Pain with sexual intercourse', 'Unable to have orgasm',\n",
       "       'Body odor', 'Breast swelling and tenderness', 'Bruising',\n",
       "       'Chills', 'Decreased sweating', 'Hot flashes',\n",
       "       'Increased sweating', 'Nosebleed', 'Other Symptoms',\n",
       "       'Pain and swelling at injection site'], dtype=object)"
      ]
     },
     "execution_count": 51,
     "metadata": {},
     "output_type": "execute_result"
    }
   ],
   "source": [
    "ctcae = pd.read_excel('PRO-CTCAE_Questionnaire_Terminology.xls', sheet_name = 'PRO')\n",
    "symptoms_list = ctcae['PRO-CTCAE PT'].unique()[:-25]\n",
    "symptoms_list"
   ]
  },
  {
   "cell_type": "code",
   "execution_count": 32,
   "metadata": {},
   "outputs": [],
   "source": [
    "extractor = ExtractingPrompt(symptom_list = symptoms_list)\n",
    "phrase = \"I have constipation, and nausea, and my mouth is dry.\"\n",
    "prompt = extractor.build_extraction_prompt(phrase)"
   ]
  },
  {
   "cell_type": "code",
   "execution_count": 33,
   "metadata": {},
   "outputs": [
    {
     "data": {
      "text/plain": [
       "[{'role': 'system',\n",
       "  'content': 'You are an AI assistant specialized in extracting medical symptoms. Given a patient dialogue, identify which symptoms from the provided list are mentioned. For each detected symptom, assign a confidence score between 0 and 1 indicating how likely it is present. Return your response as a JSON object where keys are symptom names (only those detected) and values are the corresponding scores. Only include a symptom if its score is above 0. '},\n",
       " {'role': 'user',\n",
       "  'content': 'Patient dialogue: \"I have constipation, and nausea, and my mouth is dry.\"\\n\\nSymptom list: [Cracking at the corners of the mouth (cheilosis/cheilitis), Difficulty Swallowing, Dry Mouth, Hoarseness, Mouth/throat sores, Voice quality changes, Abdominal pain, Bloating, Constipation, Decreased appetite, Diarrhea, Fecal incontinence, Gas, Heartburn, Hiccups, Nausea, Taste Changes, Vomiting, Coughing, Shortness of breath, Wheezing, Heart palpitations, Swelling (arms or legs), Acne, Bed/pressure sores, Hair loss, Hand-foot syndrome (a rash of the hands and feet that can cause cracking, peeling, redness or pain), Hives, Itching, Nail discoloration, Nail loss, Nail ridging, Radiation skin reaction, Rash, Sensitivity to sunlight, Skin darkening, Skin dryness, Stretch marks, Dizziness, Numbness & tingling, Blurred vision, Flashing lights, Ringing in ears, Visual floaters, Watery eyes, Concentration, Memory, General pain, Headache, Joint pain, Muscle pain, Fatigue, Insomnia, Anxious, Discouraged, Sad, Change in usual urine color, Irregular periods/vaginal bleeding, Missed expected menstrual period, Painful urination, Urinary frequency, Urinary incontinence, Urinary urgency, Vaginal discharge, Vaginal dryness, Decreased libido, Delayed orgasm, Achieve and maintain erection, Ejaculation, Pain with sexual intercourse, Unable to have orgasm, Body odor, Breast swelling and tenderness, Bruising, Chills, Decreased sweating, Hot flashes, Increased sweating, Nosebleed, Other Symptoms, Pain and swelling at injection site]\\n\\nExtract the symptoms and output them as instructed in valid JSON format.'}]"
      ]
     },
     "execution_count": 33,
     "metadata": {},
     "output_type": "execute_result"
    }
   ],
   "source": [
    "prompt"
   ]
  },
  {
   "cell_type": "code",
   "execution_count": 34,
   "metadata": {},
   "outputs": [
    {
     "data": {
      "text/plain": [
       "' {\"Dry Mouth\": 1.0, \"Constipation\": 1.0, \"Nausea\": 1.0}'"
      ]
     },
     "execution_count": 34,
     "metadata": {},
     "output_type": "execute_result"
    }
   ],
   "source": [
    "symptoms_extracted = model.generate_text(messages=prompt)\n",
    "symptoms_extracted"
   ]
  },
  {
   "cell_type": "code",
   "execution_count": 9,
   "metadata": {},
   "outputs": [],
   "source": [
    "def extract_symptom_scores(output_str):\n",
    "    # This pattern matches a key enclosed in single or double quotes followed by a colon and a number (integer or float)\n",
    "    pattern = r'[\"\\']([^\"\\']+)[\"\\']\\s*:\\s*([0-9]*\\.?[0-9]+)'\n",
    "    matches = re.findall(pattern, output_str)\n",
    "    # Convert the extracted values to float and build the dictionary\n",
    "    return {key: float(value) for key, value in matches}"
   ]
  },
  {
   "cell_type": "code",
   "execution_count": 37,
   "metadata": {},
   "outputs": [
    {
     "name": "stderr",
     "output_type": "stream",
     "text": [
      "823it [42:00,  3.06s/it]\n"
     ]
    }
   ],
   "source": [
    "results = []\n",
    "extractor = ExtractingPrompt(symptoms_list)\n",
    "\n",
    "for i, phrase in tqdm(enumerate(df['Dialogue_Generated'])):\n",
    "\n",
    "    prompt = extractor.build_extraction_prompt(phrase)\n",
    "\n",
    "    symptoms_extracted_llm = model.generate_text(messages=prompt)\n",
    "\n",
    "    symptoms_extracted = [list(extract_symptom_scores(symptoms_extracted_llm).keys())[0] ] + [el for el in\n",
    "                         list(extract_symptom_scores(symptoms_extracted_llm).keys())[1:] if extract_symptom_scores(symptoms_extracted_llm)[el] > 0.80 ]\n",
    "\n",
    "    true_symptom = df['symptom'][i]\n",
    "    \n",
    "    # Append a dictionary with your desired columns\n",
    "    results.append({\n",
    "        \"Dialogue\": phrase,\n",
    "        \"True_Symptom\": true_symptom,\n",
    "        \"Extracted_Symptom\": symptoms_extracted\n",
    "    })\n",
    "    df_results = pd.DataFrame(results)\n",
    "    df_results.to_csv(\"Extracting_symptoms_using_LLM.csv\")"
   ]
  },
  {
   "cell_type": "code",
   "execution_count": 89,
   "metadata": {},
   "outputs": [
    {
     "data": {
      "text/html": [
       "<div>\n",
       "<style scoped>\n",
       "    .dataframe tbody tr th:only-of-type {\n",
       "        vertical-align: middle;\n",
       "    }\n",
       "\n",
       "    .dataframe tbody tr th {\n",
       "        vertical-align: top;\n",
       "    }\n",
       "\n",
       "    .dataframe thead th {\n",
       "        text-align: right;\n",
       "    }\n",
       "</style>\n",
       "<table border=\"1\" class=\"dataframe\">\n",
       "  <thead>\n",
       "    <tr style=\"text-align: right;\">\n",
       "      <th></th>\n",
       "      <th>Unnamed: 0</th>\n",
       "      <th>Dialogue</th>\n",
       "      <th>True_Symptom</th>\n",
       "      <th>Extracted_Symptom</th>\n",
       "    </tr>\n",
       "  </thead>\n",
       "  <tbody>\n",
       "    <tr>\n",
       "      <th>0</th>\n",
       "      <td>0</td>\n",
       "      <td>\"I'm so scared, I've got these cracks at the ...</td>\n",
       "      <td>Cracking at the corners of the mouth (cheilosi...</td>\n",
       "      <td>['Cracking at the corners of the mouth (cheilo...</td>\n",
       "    </tr>\n",
       "    <tr>\n",
       "      <th>1</th>\n",
       "      <td>1</td>\n",
       "      <td>\"I got these cracks at the corners of me mout...</td>\n",
       "      <td>Cracking at the corners of the mouth (cheilosi...</td>\n",
       "      <td>['Cracking at the corners of the mouth (cheilo...</td>\n",
       "    </tr>\n",
       "    <tr>\n",
       "      <th>2</th>\n",
       "      <td>2</td>\n",
       "      <td>\"I am fed up with this bloody cracking at the...</td>\n",
       "      <td>Cracking at the corners of the mouth (cheilosi...</td>\n",
       "      <td>['Cracking at the corners of the mouth (cheilo...</td>\n",
       "    </tr>\n",
       "    <tr>\n",
       "      <th>3</th>\n",
       "      <td>3</td>\n",
       "      <td>\"I have been experiencing a cracking at the c...</td>\n",
       "      <td>Cracking at the corners of the mouth (cheilosi...</td>\n",
       "      <td>['Cracking at the corners of the mouth (cheilo...</td>\n",
       "    </tr>\n",
       "    <tr>\n",
       "      <th>4</th>\n",
       "      <td>4</td>\n",
       "      <td>\"I am fed up with this cracking at the corner...</td>\n",
       "      <td>Cracking at the corners of the mouth (cheilosi...</td>\n",
       "      <td>['Cracking at the corners of the mouth (cheilo...</td>\n",
       "    </tr>\n",
       "  </tbody>\n",
       "</table>\n",
       "</div>"
      ],
      "text/plain": [
       "   Unnamed: 0                                           Dialogue  \\\n",
       "0           0   \"I'm so scared, I've got these cracks at the ...   \n",
       "1           1   \"I got these cracks at the corners of me mout...   \n",
       "2           2   \"I am fed up with this bloody cracking at the...   \n",
       "3           3   \"I have been experiencing a cracking at the c...   \n",
       "4           4   \"I am fed up with this cracking at the corner...   \n",
       "\n",
       "                                        True_Symptom  \\\n",
       "0  Cracking at the corners of the mouth (cheilosi...   \n",
       "1  Cracking at the corners of the mouth (cheilosi...   \n",
       "2  Cracking at the corners of the mouth (cheilosi...   \n",
       "3  Cracking at the corners of the mouth (cheilosi...   \n",
       "4  Cracking at the corners of the mouth (cheilosi...   \n",
       "\n",
       "                                   Extracted_Symptom  \n",
       "0  ['Cracking at the corners of the mouth (cheilo...  \n",
       "1  ['Cracking at the corners of the mouth (cheilo...  \n",
       "2  ['Cracking at the corners of the mouth (cheilo...  \n",
       "3  ['Cracking at the corners of the mouth (cheilo...  \n",
       "4  ['Cracking at the corners of the mouth (cheilo...  "
      ]
     },
     "execution_count": 89,
     "metadata": {},
     "output_type": "execute_result"
    }
   ],
   "source": [
    "df_results = pd.read_csv(\"Extracting_symptoms_using_LLM.csv\")\n",
    "df_results.head(5)"
   ]
  },
  {
   "cell_type": "markdown",
   "metadata": {},
   "source": [
    "Naive accuracy :"
   ]
  },
  {
   "cell_type": "code",
   "execution_count": 95,
   "metadata": {},
   "outputs": [
    {
     "data": {
      "text/plain": [
       "0.5054678007290401"
      ]
     },
     "execution_count": 95,
     "metadata": {},
     "output_type": "execute_result"
    }
   ],
   "source": [
    "score = 0\n",
    "for i in range(len(df_results)) : \n",
    "    True_symptom = df_results.iloc[i]['True_Symptom']\n",
    "    Extracted_Symptom = ast.literal_eval(df_results.iloc[i]['Extracted_Symptom'])[0]\n",
    "\n",
    "    if True_symptom == Extracted_Symptom :\n",
    "        score +=1 \n",
    "\n",
    "accuracy = score / len(df_results)\n",
    "accuracy"
   ]
  },
  {
   "cell_type": "code",
   "execution_count": 129,
   "metadata": {},
   "outputs": [],
   "source": [
    "true_symptoms = [{el} for el in list(df_results['True_Symptom'])]\n",
    "extracted_symptoms = [{ast.literal_eval(el)[i] for i in range(len(ast.literal_eval(el)))} for el in list(df_results['Extracted_Symptom'])] "
   ]
  },
  {
   "cell_type": "code",
   "execution_count": null,
   "metadata": {},
   "outputs": [
    {
     "name": "stdout",
     "output_type": "stream",
     "text": [
      "Precision: 0.4228, Recall: 0.6282, F1-Score: 0.4722\n"
     ]
    }
   ],
   "source": [
    "evaluate_penalization_degree_1(true_symptoms, extracted_symptoms, df_results)"
   ]
  },
  {
   "cell_type": "code",
   "execution_count": 128,
   "metadata": {},
   "outputs": [
    {
     "name": "stdout",
     "output_type": "stream",
     "text": [
      "Precision: 0.6282, Recall: 0.6282, F1-Score: 0.6282\n"
     ]
    }
   ],
   "source": [
    "evaluate_penalization_degree_0(true_symptoms, extracted_symptoms, df_results)"
   ]
  },
  {
   "cell_type": "markdown",
   "metadata": {},
   "source": [
    "## Extracting from a multi_symptoms dataset :"
   ]
  },
  {
   "cell_type": "code",
   "execution_count": 10,
   "metadata": {},
   "outputs": [],
   "source": [
    "df = pd.read_csv(\"Many_symptoms_generated.csv\")"
   ]
  },
  {
   "cell_type": "code",
   "execution_count": 11,
   "metadata": {},
   "outputs": [
    {
     "data": {
      "text/html": [
       "<div>\n",
       "<style scoped>\n",
       "    .dataframe tbody tr th:only-of-type {\n",
       "        vertical-align: middle;\n",
       "    }\n",
       "\n",
       "    .dataframe tbody tr th {\n",
       "        vertical-align: top;\n",
       "    }\n",
       "\n",
       "    .dataframe thead th {\n",
       "        text-align: right;\n",
       "    }\n",
       "</style>\n",
       "<table border=\"1\" class=\"dataframe\">\n",
       "  <thead>\n",
       "    <tr style=\"text-align: right;\">\n",
       "      <th></th>\n",
       "      <th>Dialogue_Generated</th>\n",
       "      <th>Symptoms</th>\n",
       "      <th>Descriptions</th>\n",
       "      <th>Meta</th>\n",
       "      <th>Language_Style</th>\n",
       "      <th>Tone</th>\n",
       "      <th>Detail_Level</th>\n",
       "      <th>Enumeration</th>\n",
       "      <th>Explicit_Symptom</th>\n",
       "      <th>Spelling_Errors</th>\n",
       "    </tr>\n",
       "  </thead>\n",
       "  <tbody>\n",
       "    <tr>\n",
       "      <th>0</th>\n",
       "      <td>\"My skin is pale and dry, with a rash on my h...</td>\n",
       "      <td>['Voice quality changes', 'Hand-foot syndrome ...</td>\n",
       "      <td>['Presence/Absence', 'Severity', 'Interference...</td>\n",
       "      <td>['Prefer not to answer', 'None', 'Somewhat', '...</td>\n",
       "      <td>Poetic/Literary Register</td>\n",
       "      <td>Angry</td>\n",
       "      <td>3</td>\n",
       "      <td>True</td>\n",
       "      <td>False</td>\n",
       "      <td>False</td>\n",
       "    </tr>\n",
       "    <tr>\n",
       "      <th>1</th>\n",
       "      <td>\"I got swollen arms and legs, and I'm super s...</td>\n",
       "      <td>['Swelling (arms or legs)', 'Sensitivity to su...</td>\n",
       "      <td>['Frequency', 'Presence/Absence', 'Severity', ...</td>\n",
       "      <td>['Prefer not to answer', 'Not applicable', 'No...</td>\n",
       "      <td>Informal Register</td>\n",
       "      <td>Angry</td>\n",
       "      <td>1</td>\n",
       "      <td>False</td>\n",
       "      <td>False</td>\n",
       "      <td>True</td>\n",
       "    </tr>\n",
       "  </tbody>\n",
       "</table>\n",
       "</div>"
      ],
      "text/plain": [
       "                                  Dialogue_Generated  \\\n",
       "0   \"My skin is pale and dry, with a rash on my h...   \n",
       "1   \"I got swollen arms and legs, and I'm super s...   \n",
       "\n",
       "                                            Symptoms  \\\n",
       "0  ['Voice quality changes', 'Hand-foot syndrome ...   \n",
       "1  ['Swelling (arms or legs)', 'Sensitivity to su...   \n",
       "\n",
       "                                        Descriptions  \\\n",
       "0  ['Presence/Absence', 'Severity', 'Interference...   \n",
       "1  ['Frequency', 'Presence/Absence', 'Severity', ...   \n",
       "\n",
       "                                                Meta  \\\n",
       "0  ['Prefer not to answer', 'None', 'Somewhat', '...   \n",
       "1  ['Prefer not to answer', 'Not applicable', 'No...   \n",
       "\n",
       "             Language_Style   Tone  Detail_Level  Enumeration  \\\n",
       "0  Poetic/Literary Register  Angry             3         True   \n",
       "1         Informal Register  Angry             1        False   \n",
       "\n",
       "   Explicit_Symptom  Spelling_Errors  \n",
       "0             False            False  \n",
       "1             False             True  "
      ]
     },
     "execution_count": 11,
     "metadata": {},
     "output_type": "execute_result"
    }
   ],
   "source": [
    "df.head(2)"
   ]
  },
  {
   "cell_type": "code",
   "execution_count": 12,
   "metadata": {},
   "outputs": [
    {
     "name": "stderr",
     "output_type": "stream",
     "text": [
      "0it [00:00, ?it/s]"
     ]
    },
    {
     "name": "stderr",
     "output_type": "stream",
     "text": [
      "9it [00:22,  2.48s/it]You seem to be using the pipelines sequentially on GPU. In order to maximize efficiency please use a dataset\n",
      "100it [04:30,  2.71s/it]\n"
     ]
    }
   ],
   "source": [
    "results = []\n",
    "ctcae = pd.read_excel('PRO-CTCAE_Questionnaire_Terminology.xls', sheet_name = 'PRO')\n",
    "symptoms_list = ctcae['PRO-CTCAE PT'].unique()[:-25]\n",
    "extractor = ExtractingPrompt(symptoms_list)\n",
    "\n",
    "for i, phrase in tqdm(enumerate(df['Dialogue_Generated'])):\n",
    "\n",
    "    prompt = extractor.build_extraction_prompt(phrase)\n",
    "\n",
    "    symptoms_extracted_llm = model.generate_text(messages=prompt)\n",
    "\n",
    "    symptoms_extracted = [list(extract_symptom_scores(symptoms_extracted_llm).keys())[0] ] + [el for el in\n",
    "                         list(extract_symptom_scores(symptoms_extracted_llm).keys())[1:] if extract_symptom_scores(symptoms_extracted_llm)[el] > 0.80 ]\n",
    "\n",
    "    true_symptom = df['Symptoms'][i]\n",
    "    \n",
    "    # Append a dictionary with your desired columns\n",
    "    results.append({\n",
    "        \"Dialogue\": phrase,\n",
    "        \"True_Symptom\": true_symptom,\n",
    "        \"Extracted_Symptom\": symptoms_extracted\n",
    "    })\n",
    "    df_results = pd.DataFrame(results)\n",
    "    df_results.to_csv(\"Extracting_symptoms_using_LLM_2.csv\")"
   ]
  },
  {
   "cell_type": "code",
   "execution_count": 14,
   "metadata": {},
   "outputs": [
    {
     "data": {
      "text/html": [
       "<div>\n",
       "<style scoped>\n",
       "    .dataframe tbody tr th:only-of-type {\n",
       "        vertical-align: middle;\n",
       "    }\n",
       "\n",
       "    .dataframe tbody tr th {\n",
       "        vertical-align: top;\n",
       "    }\n",
       "\n",
       "    .dataframe thead th {\n",
       "        text-align: right;\n",
       "    }\n",
       "</style>\n",
       "<table border=\"1\" class=\"dataframe\">\n",
       "  <thead>\n",
       "    <tr style=\"text-align: right;\">\n",
       "      <th></th>\n",
       "      <th>Dialogue</th>\n",
       "      <th>True_Symptom</th>\n",
       "      <th>Extracted_Symptom</th>\n",
       "    </tr>\n",
       "  </thead>\n",
       "  <tbody>\n",
       "    <tr>\n",
       "      <th>0</th>\n",
       "      <td>\"My skin is pale and dry, with a rash on my h...</td>\n",
       "      <td>['Voice quality changes', 'Hand-foot syndrome ...</td>\n",
       "      <td>[Hand-foot syndrome (a rash of the hands and f...</td>\n",
       "    </tr>\n",
       "    <tr>\n",
       "      <th>1</th>\n",
       "      <td>\"I got swollen arms and legs, and I'm super s...</td>\n",
       "      <td>['Swelling (arms or legs)', 'Sensitivity to su...</td>\n",
       "      <td>[Swelling (arms or legs), Sensitivity to sunli...</td>\n",
       "    </tr>\n",
       "    <tr>\n",
       "      <th>2</th>\n",
       "      <td>\"I've been having these itchy red bumps all o...</td>\n",
       "      <td>['Hives', 'Hair loss', 'Painful urination']</td>\n",
       "      <td>[Hair loss, Itchy red bumps, Painful urination]</td>\n",
       "    </tr>\n",
       "    <tr>\n",
       "      <th>3</th>\n",
       "      <td>\"I have been having trouble sleeping lately, ...</td>\n",
       "      <td>['Nail ridging', 'Insomnia', 'Sensitivity to s...</td>\n",
       "      <td>[Nail ridging]</td>\n",
       "    </tr>\n",
       "    <tr>\n",
       "      <th>4</th>\n",
       "      <td>\"I'm so scared, I keep seeing flashing lights...</td>\n",
       "      <td>['Flashing lights', 'Bed/pressure sores']</td>\n",
       "      <td>[Mouth/throat sores, Bed/pressure sores, Flash...</td>\n",
       "    </tr>\n",
       "  </tbody>\n",
       "</table>\n",
       "</div>"
      ],
      "text/plain": [
       "                                            Dialogue  \\\n",
       "0   \"My skin is pale and dry, with a rash on my h...   \n",
       "1   \"I got swollen arms and legs, and I'm super s...   \n",
       "2   \"I've been having these itchy red bumps all o...   \n",
       "3   \"I have been having trouble sleeping lately, ...   \n",
       "4   \"I'm so scared, I keep seeing flashing lights...   \n",
       "\n",
       "                                        True_Symptom  \\\n",
       "0  ['Voice quality changes', 'Hand-foot syndrome ...   \n",
       "1  ['Swelling (arms or legs)', 'Sensitivity to su...   \n",
       "2        ['Hives', 'Hair loss', 'Painful urination']   \n",
       "3  ['Nail ridging', 'Insomnia', 'Sensitivity to s...   \n",
       "4          ['Flashing lights', 'Bed/pressure sores']   \n",
       "\n",
       "                                   Extracted_Symptom  \n",
       "0  [Hand-foot syndrome (a rash of the hands and f...  \n",
       "1  [Swelling (arms or legs), Sensitivity to sunli...  \n",
       "2    [Hair loss, Itchy red bumps, Painful urination]  \n",
       "3                                     [Nail ridging]  \n",
       "4  [Mouth/throat sores, Bed/pressure sores, Flash...  "
      ]
     },
     "execution_count": 14,
     "metadata": {},
     "output_type": "execute_result"
    }
   ],
   "source": [
    "df_results.head(5)"
   ]
  },
  {
   "cell_type": "code",
   "execution_count": 75,
   "metadata": {},
   "outputs": [],
   "source": [
    "true_symptoms = [set(ast.literal_eval(el)) for el in df_results['True_Symptom']]\n",
    "extracted_symptoms = [set(el) for el in list(df_results['Extracted_Symptom'])]"
   ]
  },
  {
   "cell_type": "code",
   "execution_count": 81,
   "metadata": {},
   "outputs": [
    {
     "data": {
      "text/plain": [
       "0.15"
      ]
     },
     "execution_count": 81,
     "metadata": {},
     "output_type": "execute_result"
    }
   ],
   "source": [
    "score = 0\n",
    "for i in range(len(df_results)) : \n",
    "\n",
    "    True_symptom = true_symptoms[i]\n",
    "    Extracted_Symptom = extracted_symptoms[i]\n",
    "\n",
    "    if True_symptom <= Extracted_Symptom : # Subset check (penalizes only missing ones)\n",
    "        score +=1 \n",
    "\n",
    "accuracy = score / len(df_results)\n",
    "accuracy"
   ]
  },
  {
   "cell_type": "code",
   "execution_count": 82,
   "metadata": {},
   "outputs": [
    {
     "data": {
      "text/plain": [
       "0.0"
      ]
     },
     "execution_count": 82,
     "metadata": {},
     "output_type": "execute_result"
    }
   ],
   "source": [
    "score = 0\n",
    "for i in range(len(df_results)) : \n",
    "    True_symptom = df_results.iloc[i]['True_Symptom']\n",
    "    Extracted_Symptom = df_results.iloc[i]['Extracted_Symptom'][0]\n",
    "\n",
    "    if True_symptom == Extracted_Symptom :\n",
    "        score +=1 \n",
    "\n",
    "accuracy = score / len(df_results)\n",
    "accuracy"
   ]
  },
  {
   "cell_type": "code",
   "execution_count": null,
   "metadata": {},
   "outputs": [],
   "source": [
    "true_symptoms = [set(ast.literal_eval(el)) for el in df_results['True_Symptom']]\n",
    "extracted_symptoms = [set(el) for el in list(df_results['Extracted_Symptom'])] "
   ]
  },
  {
   "cell_type": "code",
   "execution_count": null,
   "metadata": {},
   "outputs": [
    {
     "name": "stdout",
     "output_type": "stream",
     "text": [
      "Precision: 0.5238, Recall: 0.4542, F1-Score: 0.4665\n"
     ]
    }
   ],
   "source": [
    "evaluate_penalization_degree_1(true_symptoms, extracted_symptoms, df_results)"
   ]
  },
  {
   "cell_type": "code",
   "execution_count": null,
   "metadata": {},
   "outputs": [
    {
     "name": "stdout",
     "output_type": "stream",
     "text": [
      "Precision: 0.8200, Recall: 0.8200, F1-Score: 0.8200\n"
     ]
    }
   ],
   "source": [
    "evaluate_penalization_degree_0(true_symptoms, extracted_symptoms, df_results)"
   ]
  }
 ],
 "metadata": {
  "kernelspec": {
   "display_name": "darts_env",
   "language": "python",
   "name": "python3"
  },
  "language_info": {
   "codemirror_mode": {
    "name": "ipython",
    "version": 3
   },
   "file_extension": ".py",
   "mimetype": "text/x-python",
   "name": "python",
   "nbconvert_exporter": "python",
   "pygments_lexer": "ipython3",
   "version": "3.11.11"
  }
 },
 "nbformat": 4,
 "nbformat_minor": 2
}
